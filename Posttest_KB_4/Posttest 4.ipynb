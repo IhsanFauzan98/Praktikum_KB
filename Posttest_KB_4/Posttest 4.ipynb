{
 "cells": [
  {
   "cell_type": "markdown",
   "id": "4866e4ff-ef40-4cdc-8afd-647fdb7e42e0",
   "metadata": {},
   "source": [
    "## POSTTEST 4\n",
    "### Data Preprocessing"
   ]
  },
  {
   "cell_type": "markdown",
   "id": "5d0980e3-7ae7-4cad-9445-e988fec0ec75",
   "metadata": {},
   "source": [
    "#### Mengimport pandas untuk membaca data csv"
   ]
  },
  {
   "cell_type": "code",
   "execution_count": 1,
   "id": "2902596e-eae7-4003-adbf-5bbf43ab3779",
   "metadata": {},
   "outputs": [],
   "source": [
    "import pandas as pd\n",
    "from sklearn.model_selection import train_test_split\n",
    "from sklearn.preprocessing import MinMaxScaler, StandardScaler, OneHotEncoder\n",
    "from sklearn.impute import SimpleImputer"
   ]
  },
  {
   "cell_type": "markdown",
   "id": "a72d88e8-959e-4540-9da8-d8bef3379cd4",
   "metadata": {},
   "source": [
    "#### Membaca file csv"
   ]
  },
  {
   "cell_type": "code",
   "execution_count": 2,
   "id": "f2d119a0-ec9b-41ef-9be6-7c8c7eec56dd",
   "metadata": {},
   "outputs": [
    {
     "name": "stdout",
     "output_type": "stream",
     "text": [
      "<class 'pandas.core.frame.DataFrame'>\n",
      "RangeIndex: 371528 entries, 0 to 371527\n",
      "Data columns (total 21 columns):\n",
      " #   Column               Non-Null Count   Dtype \n",
      "---  ------               --------------   ----- \n",
      " 0   index                371528 non-null  int64 \n",
      " 1   dateCrawled          371528 non-null  object\n",
      " 2   name                 371528 non-null  object\n",
      " 3   seller               371528 non-null  object\n",
      " 4   offerType            371528 non-null  object\n",
      " 5   price                371528 non-null  int64 \n",
      " 6   abtest               371528 non-null  object\n",
      " 7   vehicleType          333659 non-null  object\n",
      " 8   yearOfRegistration   371528 non-null  int64 \n",
      " 9   gearbox              351319 non-null  object\n",
      " 10  powerPS              371528 non-null  int64 \n",
      " 11  model                351044 non-null  object\n",
      " 12  kilometer            371528 non-null  int64 \n",
      " 13  monthOfRegistration  371528 non-null  int64 \n",
      " 14  fuelType             338142 non-null  object\n",
      " 15  brand                371528 non-null  object\n",
      " 16  notRepairedDamage    299468 non-null  object\n",
      " 17  dateCreated          371528 non-null  object\n",
      " 18  nrOfPictures         371528 non-null  int64 \n",
      " 19  postalCode           371528 non-null  int64 \n",
      " 20  lastSeen             371528 non-null  object\n",
      "dtypes: int64(8), object(13)\n",
      "memory usage: 59.5+ MB\n"
     ]
    }
   ],
   "source": [
    "df = pd.read_csv(\"autos.csv\")\n",
    "df.info()"
   ]
  },
  {
   "cell_type": "markdown",
   "id": "363d187e-396e-47d6-9ebc-501d150f9637",
   "metadata": {},
   "source": [
    "#### Menampilkan Total Kolom dan Baris dari dataframe"
   ]
  },
  {
   "cell_type": "code",
   "execution_count": 3,
   "id": "fccfa09e-3e92-45bc-b661-4e597d7739f4",
   "metadata": {},
   "outputs": [
    {
     "data": {
      "text/plain": [
       "(371528, 21)"
      ]
     },
     "execution_count": 3,
     "metadata": {},
     "output_type": "execute_result"
    }
   ],
   "source": [
    "df.shape "
   ]
  },
  {
   "cell_type": "markdown",
   "id": "25a8fbde-037b-4225-b047-b9a05bc4ad7e",
   "metadata": {},
   "source": [
    "#### 1. Membuat dan membagi dataset menjadi training set dan testing set dengan proporsi 70:30"
   ]
  },
  {
   "cell_type": "code",
   "execution_count": 4,
   "id": "ffeb7b6e-9643-4dc8-bf84-511d8e203e3d",
   "metadata": {},
   "outputs": [
    {
     "name": "stdout",
     "output_type": "stream",
     "text": [
      "Dimensi X_train (260069, 20)\n",
      "Dimensi X_test (111459, 20)\n",
      "Dimensi y_train (260069,)\n",
      "Dimensi y_test (111459,)\n"
     ]
    }
   ],
   "source": [
    "X = df.iloc[:, : -1]\n",
    "y = df.iloc[:, -1]\n",
    "\n",
    "X_train, X_test, y_train, y_test = train_test_split(X, y, test_size=0.3)\n",
    "\n",
    "print(\"Dimensi X_train\", X_train.shape)\n",
    "print(\"Dimensi X_test\", X_test.shape)\n",
    "print(\"Dimensi y_train\", y_train.shape)\n",
    "print(\"Dimensi y_test\", y_test.shape)"
   ]
  },
  {
   "cell_type": "markdown",
   "id": "0a42cee8-a05f-452e-aab8-d31e1090595e",
   "metadata": {},
   "source": [
    "#### 2. Menormalisasi data pada kolom Kilometer menggunakan MinMaxScaler"
   ]
  },
  {
   "cell_type": "code",
   "execution_count": 5,
   "id": "7c666898-c2c5-4a43-93cf-3a78bc19b6fa",
   "metadata": {},
   "outputs": [
    {
     "name": "stdout",
     "output_type": "stream",
     "text": [
      "\n",
      "Data Sebelum dan Sesudah dilakukan normalisasi : \n",
      "\n"
     ]
    },
    {
     "data": {
      "text/html": [
       "<div>\n",
       "<style scoped>\n",
       "    .dataframe tbody tr th:only-of-type {\n",
       "        vertical-align: middle;\n",
       "    }\n",
       "\n",
       "    .dataframe tbody tr th {\n",
       "        vertical-align: top;\n",
       "    }\n",
       "\n",
       "    .dataframe thead th {\n",
       "        text-align: right;\n",
       "    }\n",
       "</style>\n",
       "<table border=\"1\" class=\"dataframe\">\n",
       "  <thead>\n",
       "    <tr style=\"text-align: right;\">\n",
       "      <th></th>\n",
       "      <th>kilometer</th>\n",
       "      <th>kilometer_normalisasi</th>\n",
       "    </tr>\n",
       "  </thead>\n",
       "  <tbody>\n",
       "    <tr>\n",
       "      <th>0</th>\n",
       "      <td>150000</td>\n",
       "      <td>1.000000</td>\n",
       "    </tr>\n",
       "    <tr>\n",
       "      <th>1</th>\n",
       "      <td>125000</td>\n",
       "      <td>0.827586</td>\n",
       "    </tr>\n",
       "    <tr>\n",
       "      <th>2</th>\n",
       "      <td>125000</td>\n",
       "      <td>0.827586</td>\n",
       "    </tr>\n",
       "    <tr>\n",
       "      <th>3</th>\n",
       "      <td>150000</td>\n",
       "      <td>1.000000</td>\n",
       "    </tr>\n",
       "    <tr>\n",
       "      <th>4</th>\n",
       "      <td>90000</td>\n",
       "      <td>0.586207</td>\n",
       "    </tr>\n",
       "    <tr>\n",
       "      <th>5</th>\n",
       "      <td>150000</td>\n",
       "      <td>1.000000</td>\n",
       "    </tr>\n",
       "    <tr>\n",
       "      <th>6</th>\n",
       "      <td>150000</td>\n",
       "      <td>1.000000</td>\n",
       "    </tr>\n",
       "    <tr>\n",
       "      <th>7</th>\n",
       "      <td>40000</td>\n",
       "      <td>0.241379</td>\n",
       "    </tr>\n",
       "    <tr>\n",
       "      <th>8</th>\n",
       "      <td>30000</td>\n",
       "      <td>0.172414</td>\n",
       "    </tr>\n",
       "    <tr>\n",
       "      <th>9</th>\n",
       "      <td>150000</td>\n",
       "      <td>1.000000</td>\n",
       "    </tr>\n",
       "  </tbody>\n",
       "</table>\n",
       "</div>"
      ],
      "text/plain": [
       "   kilometer  kilometer_normalisasi\n",
       "0     150000               1.000000\n",
       "1     125000               0.827586\n",
       "2     125000               0.827586\n",
       "3     150000               1.000000\n",
       "4      90000               0.586207\n",
       "5     150000               1.000000\n",
       "6     150000               1.000000\n",
       "7      40000               0.241379\n",
       "8      30000               0.172414\n",
       "9     150000               1.000000"
      ]
     },
     "execution_count": 5,
     "metadata": {},
     "output_type": "execute_result"
    }
   ],
   "source": [
    "min_max = MinMaxScaler()\n",
    "\n",
    "copy1 = df\n",
    "dataCopy_normalization = copy1[[\"kilometer\"]]\n",
    "\n",
    "normalization = min_max.fit_transform(dataCopy_normalization[[\"kilometer\"]])\n",
    "\n",
    "data_normalization = pd.DataFrame(normalization)\n",
    "data_normalization.columns =[\"kilometer_normalisasi\"]\n",
    "\n",
    "dataCopy_normalization = dataCopy_normalization.join(data_normalization[\"kilometer_normalisasi\"]).reset_index()\n",
    "dataCopy_normalization = dataCopy_normalization.drop(\"index\", axis=1)\n",
    "\n",
    "print()\n",
    "print(\"Data Sebelum dan Sesudah dilakukan normalisasi : \\n\")\n",
    "dataCopy_normalization.head(10)"
   ]
  },
  {
   "cell_type": "code",
   "execution_count": 6,
   "id": "b7838c6b-1fc1-45e8-b662-12244383f02f",
   "metadata": {},
   "outputs": [
    {
     "data": {
      "text/plain": [
       "kilometer                125618.688228\n",
       "kilometer_normalisasi         0.831853\n",
       "dtype: float64"
      ]
     },
     "execution_count": 6,
     "metadata": {},
     "output_type": "execute_result"
    }
   ],
   "source": [
    "dataCopy_normalization.mean()"
   ]
  },
  {
   "cell_type": "markdown",
   "id": "95b2c470-fc6a-4a92-a4f0-559dab7d0022",
   "metadata": {},
   "source": [
    "#### 3. Melakukan standarisasi pada kolom price dan kilometer dengan menggunakan scaler##"
   ]
  },
  {
   "cell_type": "code",
   "execution_count": 7,
   "id": "e4eba759-35bc-407b-8220-644e94413ba9",
   "metadata": {},
   "outputs": [],
   "source": [
    "df_copy = df.copy()\n",
    "columns_to_scale = ['price','kilometer']\n",
    "\n",
    "scaler = StandardScaler()\n",
    "df_copy[columns_to_scale] = scaler.fit_transform(df_copy[columns_to_scale])\n"
   ]
  },
  {
   "cell_type": "code",
   "execution_count": 8,
   "id": "daa8092b-b8ee-4224-bbd4-3e1be22d353c",
   "metadata": {},
   "outputs": [
    {
     "name": "stdout",
     "output_type": "stream",
     "text": [
      "Data Sebelum Scaling:\n",
      "   price  kilometer\n",
      "0    480     150000\n",
      "1  18300     125000\n",
      "2   9800     125000\n",
      "3   1500     150000\n",
      "4   3600      90000\n",
      "\n",
      "Data Sesudah Scaling:\n",
      "      price  kilometer\n",
      "0 -0.004687   0.607827\n",
      "1  0.000280  -0.015424\n",
      "2 -0.002089  -0.015424\n",
      "3 -0.004402   0.607827\n",
      "4 -0.003817  -0.887975\n"
     ]
    }
   ],
   "source": [
    "print(\"Data Sebelum Scaling:\")\n",
    "print(df[columns_to_scale].head())\n",
    "\n",
    "print(\"\\nData Sesudah Scaling:\")\n",
    "print(df_copy[columns_to_scale].head())"
   ]
  },
  {
   "cell_type": "markdown",
   "id": "e6fa4940-ba8d-431c-a47d-8280445793fb",
   "metadata": {},
   "source": [
    "#### 4. Melakukan Data Cleaning dengan mengisi/menghapus nilai null"
   ]
  },
  {
   "cell_type": "markdown",
   "id": "feb5dcf7-9409-4fe8-a49b-1ea4de7be5a1",
   "metadata": {},
   "source": [
    "Mengecek Nilai Null pada dataset"
   ]
  },
  {
   "cell_type": "code",
   "execution_count": 9,
   "id": "cbdec6c9-cf67-4915-8c68-f275be37d5ae",
   "metadata": {},
   "outputs": [
    {
     "data": {
      "text/plain": [
       "index                      0\n",
       "dateCrawled                0\n",
       "name                       0\n",
       "seller                     0\n",
       "offerType                  0\n",
       "price                      0\n",
       "abtest                     0\n",
       "vehicleType            37869\n",
       "yearOfRegistration         0\n",
       "gearbox                20209\n",
       "powerPS                    0\n",
       "model                  20484\n",
       "kilometer                  0\n",
       "monthOfRegistration        0\n",
       "fuelType               33386\n",
       "brand                      0\n",
       "notRepairedDamage      72060\n",
       "dateCreated                0\n",
       "nrOfPictures               0\n",
       "postalCode                 0\n",
       "lastSeen                   0\n",
       "dtype: int64"
      ]
     },
     "execution_count": 9,
     "metadata": {},
     "output_type": "execute_result"
    }
   ],
   "source": [
    "df.isnull().sum()"
   ]
  },
  {
   "cell_type": "markdown",
   "id": "5bcd80ba-5176-4262-a411-1e5db248752f",
   "metadata": {},
   "source": [
    "Menambahkan nilai null pada kolom kilometer dan price untuk strategi median dan mean"
   ]
  },
  {
   "cell_type": "code",
   "execution_count": 10,
   "id": "42ec90c9-2908-4c72-8e85-029ff8dde70e",
   "metadata": {},
   "outputs": [
    {
     "data": {
      "text/html": [
       "<div>\n",
       "<style scoped>\n",
       "    .dataframe tbody tr th:only-of-type {\n",
       "        vertical-align: middle;\n",
       "    }\n",
       "\n",
       "    .dataframe tbody tr th {\n",
       "        vertical-align: top;\n",
       "    }\n",
       "\n",
       "    .dataframe thead th {\n",
       "        text-align: right;\n",
       "    }\n",
       "</style>\n",
       "<table border=\"1\" class=\"dataframe\">\n",
       "  <thead>\n",
       "    <tr style=\"text-align: right;\">\n",
       "      <th></th>\n",
       "      <th>index</th>\n",
       "      <th>dateCrawled</th>\n",
       "      <th>name</th>\n",
       "      <th>seller</th>\n",
       "      <th>offerType</th>\n",
       "      <th>price</th>\n",
       "      <th>abtest</th>\n",
       "      <th>vehicleType</th>\n",
       "      <th>yearOfRegistration</th>\n",
       "      <th>gearbox</th>\n",
       "      <th>...</th>\n",
       "      <th>model</th>\n",
       "      <th>kilometer</th>\n",
       "      <th>monthOfRegistration</th>\n",
       "      <th>fuelType</th>\n",
       "      <th>brand</th>\n",
       "      <th>notRepairedDamage</th>\n",
       "      <th>dateCreated</th>\n",
       "      <th>nrOfPictures</th>\n",
       "      <th>postalCode</th>\n",
       "      <th>lastSeen</th>\n",
       "    </tr>\n",
       "  </thead>\n",
       "  <tbody>\n",
       "    <tr>\n",
       "      <th>0</th>\n",
       "      <td>0</td>\n",
       "      <td>2016-03-24 11:52:17</td>\n",
       "      <td>Golf_3_1.6</td>\n",
       "      <td>privat</td>\n",
       "      <td>Angebot</td>\n",
       "      <td>480.0</td>\n",
       "      <td>test</td>\n",
       "      <td>NaN</td>\n",
       "      <td>1993</td>\n",
       "      <td>manuell</td>\n",
       "      <td>...</td>\n",
       "      <td>golf</td>\n",
       "      <td>150000.0</td>\n",
       "      <td>0</td>\n",
       "      <td>benzin</td>\n",
       "      <td>volkswagen</td>\n",
       "      <td>NaN</td>\n",
       "      <td>2016-03-24 00:00:00</td>\n",
       "      <td>0</td>\n",
       "      <td>70435</td>\n",
       "      <td>2016-04-07 03:16:57</td>\n",
       "    </tr>\n",
       "    <tr>\n",
       "      <th>1</th>\n",
       "      <td>1</td>\n",
       "      <td>2016-03-24 10:58:45</td>\n",
       "      <td>A5_Sportback_2.7_Tdi</td>\n",
       "      <td>privat</td>\n",
       "      <td>Angebot</td>\n",
       "      <td>18300.0</td>\n",
       "      <td>test</td>\n",
       "      <td>coupe</td>\n",
       "      <td>2011</td>\n",
       "      <td>manuell</td>\n",
       "      <td>...</td>\n",
       "      <td>NaN</td>\n",
       "      <td>125000.0</td>\n",
       "      <td>5</td>\n",
       "      <td>diesel</td>\n",
       "      <td>audi</td>\n",
       "      <td>ja</td>\n",
       "      <td>2016-03-24 00:00:00</td>\n",
       "      <td>0</td>\n",
       "      <td>66954</td>\n",
       "      <td>2016-04-07 01:46:50</td>\n",
       "    </tr>\n",
       "    <tr>\n",
       "      <th>2</th>\n",
       "      <td>2</td>\n",
       "      <td>2016-03-14 12:52:21</td>\n",
       "      <td>Jeep_Grand_Cherokee_\"Overland\"</td>\n",
       "      <td>privat</td>\n",
       "      <td>Angebot</td>\n",
       "      <td>9800.0</td>\n",
       "      <td>test</td>\n",
       "      <td>suv</td>\n",
       "      <td>2004</td>\n",
       "      <td>automatik</td>\n",
       "      <td>...</td>\n",
       "      <td>grand</td>\n",
       "      <td>125000.0</td>\n",
       "      <td>8</td>\n",
       "      <td>diesel</td>\n",
       "      <td>jeep</td>\n",
       "      <td>NaN</td>\n",
       "      <td>2016-03-14 00:00:00</td>\n",
       "      <td>0</td>\n",
       "      <td>90480</td>\n",
       "      <td>2016-04-05 12:47:46</td>\n",
       "    </tr>\n",
       "    <tr>\n",
       "      <th>8</th>\n",
       "      <td>8</td>\n",
       "      <td>2016-04-04 23:42:13</td>\n",
       "      <td>Ford_C___Max_Titanium_1_0_L_EcoBoost</td>\n",
       "      <td>privat</td>\n",
       "      <td>Angebot</td>\n",
       "      <td>14500.0</td>\n",
       "      <td>control</td>\n",
       "      <td>bus</td>\n",
       "      <td>2014</td>\n",
       "      <td>manuell</td>\n",
       "      <td>...</td>\n",
       "      <td>c_max</td>\n",
       "      <td>30000.0</td>\n",
       "      <td>8</td>\n",
       "      <td>benzin</td>\n",
       "      <td>ford</td>\n",
       "      <td>NaN</td>\n",
       "      <td>2016-04-04 00:00:00</td>\n",
       "      <td>0</td>\n",
       "      <td>94505</td>\n",
       "      <td>2016-04-04 23:42:13</td>\n",
       "    </tr>\n",
       "    <tr>\n",
       "      <th>9</th>\n",
       "      <td>9</td>\n",
       "      <td>2016-03-17 10:53:50</td>\n",
       "      <td>VW_Golf_4_5_tuerig_zu_verkaufen_mit_Anhaengerk...</td>\n",
       "      <td>privat</td>\n",
       "      <td>Angebot</td>\n",
       "      <td>999.0</td>\n",
       "      <td>test</td>\n",
       "      <td>kleinwagen</td>\n",
       "      <td>1998</td>\n",
       "      <td>manuell</td>\n",
       "      <td>...</td>\n",
       "      <td>golf</td>\n",
       "      <td>150000.0</td>\n",
       "      <td>0</td>\n",
       "      <td>NaN</td>\n",
       "      <td>volkswagen</td>\n",
       "      <td>NaN</td>\n",
       "      <td>2016-03-17 00:00:00</td>\n",
       "      <td>0</td>\n",
       "      <td>27472</td>\n",
       "      <td>2016-03-31 17:17:06</td>\n",
       "    </tr>\n",
       "    <tr>\n",
       "      <th>...</th>\n",
       "      <td>...</td>\n",
       "      <td>...</td>\n",
       "      <td>...</td>\n",
       "      <td>...</td>\n",
       "      <td>...</td>\n",
       "      <td>...</td>\n",
       "      <td>...</td>\n",
       "      <td>...</td>\n",
       "      <td>...</td>\n",
       "      <td>...</td>\n",
       "      <td>...</td>\n",
       "      <td>...</td>\n",
       "      <td>...</td>\n",
       "      <td>...</td>\n",
       "      <td>...</td>\n",
       "      <td>...</td>\n",
       "      <td>...</td>\n",
       "      <td>...</td>\n",
       "      <td>...</td>\n",
       "      <td>...</td>\n",
       "      <td>...</td>\n",
       "    </tr>\n",
       "    <tr>\n",
       "      <th>371515</th>\n",
       "      <td>371515</td>\n",
       "      <td>2016-03-09 11:36:55</td>\n",
       "      <td>Skoda_Fabia_Kombi_1.4</td>\n",
       "      <td>privat</td>\n",
       "      <td>Angebot</td>\n",
       "      <td>1690.0</td>\n",
       "      <td>test</td>\n",
       "      <td>kombi</td>\n",
       "      <td>2004</td>\n",
       "      <td>manuell</td>\n",
       "      <td>...</td>\n",
       "      <td>fabia</td>\n",
       "      <td>150000.0</td>\n",
       "      <td>4</td>\n",
       "      <td>benzin</td>\n",
       "      <td>skoda</td>\n",
       "      <td>NaN</td>\n",
       "      <td>2016-03-09 00:00:00</td>\n",
       "      <td>0</td>\n",
       "      <td>18246</td>\n",
       "      <td>2016-04-04 08:15:30</td>\n",
       "    </tr>\n",
       "    <tr>\n",
       "      <th>371519</th>\n",
       "      <td>371519</td>\n",
       "      <td>2016-03-09 13:37:43</td>\n",
       "      <td>Alfa_Romeo_159_Jtdm_1.9_150_ps_13_600_km_top_voll</td>\n",
       "      <td>privat</td>\n",
       "      <td>Angebot</td>\n",
       "      <td>5250.0</td>\n",
       "      <td>control</td>\n",
       "      <td>NaN</td>\n",
       "      <td>2016</td>\n",
       "      <td>automatik</td>\n",
       "      <td>...</td>\n",
       "      <td>159</td>\n",
       "      <td>150000.0</td>\n",
       "      <td>12</td>\n",
       "      <td>NaN</td>\n",
       "      <td>alfa_romeo</td>\n",
       "      <td>nein</td>\n",
       "      <td>2016-03-09 00:00:00</td>\n",
       "      <td>0</td>\n",
       "      <td>51371</td>\n",
       "      <td>2016-03-13 01:44:13</td>\n",
       "    </tr>\n",
       "    <tr>\n",
       "      <th>371522</th>\n",
       "      <td>371522</td>\n",
       "      <td>2016-03-21 09:50:58</td>\n",
       "      <td>Mitsubishi_Cold</td>\n",
       "      <td>privat</td>\n",
       "      <td>Angebot</td>\n",
       "      <td>0.0</td>\n",
       "      <td>control</td>\n",
       "      <td>NaN</td>\n",
       "      <td>2005</td>\n",
       "      <td>manuell</td>\n",
       "      <td>...</td>\n",
       "      <td>colt</td>\n",
       "      <td>150000.0</td>\n",
       "      <td>7</td>\n",
       "      <td>benzin</td>\n",
       "      <td>mitsubishi</td>\n",
       "      <td>ja</td>\n",
       "      <td>2016-03-21 00:00:00</td>\n",
       "      <td>0</td>\n",
       "      <td>2694</td>\n",
       "      <td>2016-03-21 10:42:49</td>\n",
       "    </tr>\n",
       "    <tr>\n",
       "      <th>371523</th>\n",
       "      <td>371523</td>\n",
       "      <td>2016-03-14 17:48:27</td>\n",
       "      <td>Suche_t4___vito_ab_6_sitze</td>\n",
       "      <td>privat</td>\n",
       "      <td>Angebot</td>\n",
       "      <td>2200.0</td>\n",
       "      <td>test</td>\n",
       "      <td>NaN</td>\n",
       "      <td>2005</td>\n",
       "      <td>NaN</td>\n",
       "      <td>...</td>\n",
       "      <td>NaN</td>\n",
       "      <td>20000.0</td>\n",
       "      <td>1</td>\n",
       "      <td>NaN</td>\n",
       "      <td>sonstige_autos</td>\n",
       "      <td>NaN</td>\n",
       "      <td>2016-03-14 00:00:00</td>\n",
       "      <td>0</td>\n",
       "      <td>39576</td>\n",
       "      <td>2016-04-06 00:46:52</td>\n",
       "    </tr>\n",
       "    <tr>\n",
       "      <th>371526</th>\n",
       "      <td>371526</td>\n",
       "      <td>2016-03-20 19:41:08</td>\n",
       "      <td>VW_Golf_Kombi_1_9l_TDI</td>\n",
       "      <td>privat</td>\n",
       "      <td>Angebot</td>\n",
       "      <td>3400.0</td>\n",
       "      <td>test</td>\n",
       "      <td>kombi</td>\n",
       "      <td>2002</td>\n",
       "      <td>manuell</td>\n",
       "      <td>...</td>\n",
       "      <td>golf</td>\n",
       "      <td>150000.0</td>\n",
       "      <td>6</td>\n",
       "      <td>diesel</td>\n",
       "      <td>volkswagen</td>\n",
       "      <td>NaN</td>\n",
       "      <td>2016-03-20 00:00:00</td>\n",
       "      <td>0</td>\n",
       "      <td>40764</td>\n",
       "      <td>2016-03-24 12:45:21</td>\n",
       "    </tr>\n",
       "  </tbody>\n",
       "</table>\n",
       "<p>110580 rows × 21 columns</p>\n",
       "</div>"
      ],
      "text/plain": [
       "         index          dateCrawled  \\\n",
       "0            0  2016-03-24 11:52:17   \n",
       "1            1  2016-03-24 10:58:45   \n",
       "2            2  2016-03-14 12:52:21   \n",
       "8            8  2016-04-04 23:42:13   \n",
       "9            9  2016-03-17 10:53:50   \n",
       "...        ...                  ...   \n",
       "371515  371515  2016-03-09 11:36:55   \n",
       "371519  371519  2016-03-09 13:37:43   \n",
       "371522  371522  2016-03-21 09:50:58   \n",
       "371523  371523  2016-03-14 17:48:27   \n",
       "371526  371526  2016-03-20 19:41:08   \n",
       "\n",
       "                                                     name  seller offerType  \\\n",
       "0                                              Golf_3_1.6  privat   Angebot   \n",
       "1                                    A5_Sportback_2.7_Tdi  privat   Angebot   \n",
       "2                          Jeep_Grand_Cherokee_\"Overland\"  privat   Angebot   \n",
       "8                    Ford_C___Max_Titanium_1_0_L_EcoBoost  privat   Angebot   \n",
       "9       VW_Golf_4_5_tuerig_zu_verkaufen_mit_Anhaengerk...  privat   Angebot   \n",
       "...                                                   ...     ...       ...   \n",
       "371515                              Skoda_Fabia_Kombi_1.4  privat   Angebot   \n",
       "371519  Alfa_Romeo_159_Jtdm_1.9_150_ps_13_600_km_top_voll  privat   Angebot   \n",
       "371522                                    Mitsubishi_Cold  privat   Angebot   \n",
       "371523                         Suche_t4___vito_ab_6_sitze  privat   Angebot   \n",
       "371526                             VW_Golf_Kombi_1_9l_TDI  privat   Angebot   \n",
       "\n",
       "          price   abtest vehicleType  yearOfRegistration    gearbox  ...  \\\n",
       "0         480.0     test         NaN                1993    manuell  ...   \n",
       "1       18300.0     test       coupe                2011    manuell  ...   \n",
       "2        9800.0     test         suv                2004  automatik  ...   \n",
       "8       14500.0  control         bus                2014    manuell  ...   \n",
       "9         999.0     test  kleinwagen                1998    manuell  ...   \n",
       "...         ...      ...         ...                 ...        ...  ...   \n",
       "371515   1690.0     test       kombi                2004    manuell  ...   \n",
       "371519   5250.0  control         NaN                2016  automatik  ...   \n",
       "371522      0.0  control         NaN                2005    manuell  ...   \n",
       "371523   2200.0     test         NaN                2005        NaN  ...   \n",
       "371526   3400.0     test       kombi                2002    manuell  ...   \n",
       "\n",
       "        model kilometer  monthOfRegistration  fuelType           brand  \\\n",
       "0        golf  150000.0                    0    benzin      volkswagen   \n",
       "1         NaN  125000.0                    5    diesel            audi   \n",
       "2       grand  125000.0                    8    diesel            jeep   \n",
       "8       c_max   30000.0                    8    benzin            ford   \n",
       "9        golf  150000.0                    0       NaN      volkswagen   \n",
       "...       ...       ...                  ...       ...             ...   \n",
       "371515  fabia  150000.0                    4    benzin           skoda   \n",
       "371519    159  150000.0                   12       NaN      alfa_romeo   \n",
       "371522   colt  150000.0                    7    benzin      mitsubishi   \n",
       "371523    NaN   20000.0                    1       NaN  sonstige_autos   \n",
       "371526   golf  150000.0                    6    diesel      volkswagen   \n",
       "\n",
       "       notRepairedDamage          dateCreated nrOfPictures  postalCode  \\\n",
       "0                    NaN  2016-03-24 00:00:00            0       70435   \n",
       "1                     ja  2016-03-24 00:00:00            0       66954   \n",
       "2                    NaN  2016-03-14 00:00:00            0       90480   \n",
       "8                    NaN  2016-04-04 00:00:00            0       94505   \n",
       "9                    NaN  2016-03-17 00:00:00            0       27472   \n",
       "...                  ...                  ...          ...         ...   \n",
       "371515               NaN  2016-03-09 00:00:00            0       18246   \n",
       "371519              nein  2016-03-09 00:00:00            0       51371   \n",
       "371522                ja  2016-03-21 00:00:00            0        2694   \n",
       "371523               NaN  2016-03-14 00:00:00            0       39576   \n",
       "371526               NaN  2016-03-20 00:00:00            0       40764   \n",
       "\n",
       "                   lastSeen  \n",
       "0       2016-04-07 03:16:57  \n",
       "1       2016-04-07 01:46:50  \n",
       "2       2016-04-05 12:47:46  \n",
       "8       2016-04-04 23:42:13  \n",
       "9       2016-03-31 17:17:06  \n",
       "...                     ...  \n",
       "371515  2016-04-04 08:15:30  \n",
       "371519  2016-03-13 01:44:13  \n",
       "371522  2016-03-21 10:42:49  \n",
       "371523  2016-04-06 00:46:52  \n",
       "371526  2016-03-24 12:45:21  \n",
       "\n",
       "[110580 rows x 21 columns]"
      ]
     },
     "execution_count": 10,
     "metadata": {},
     "output_type": "execute_result"
    }
   ],
   "source": [
    "# Untuk Menghilangkan SettingWithCopyWarning\n",
    "pd.options.mode.chained_assignment = None\n",
    "\n",
    "df.kilometer[[15,100,200,300,400,500,600,700,800,900,1000]]=None;\n",
    "df.price[[15,100,200,300,400,500,600,700,800,900,1000]]=None;\n",
    "\n",
    "df[df.isnull().any(axis=1)]"
   ]
  },
  {
   "cell_type": "markdown",
   "id": "2f819419-251f-4c52-af7d-b9a572a3ce5a",
   "metadata": {},
   "source": [
    "Menggunakan Modus/Most_Frequent untuk mengisi kolom yang berisi string"
   ]
  },
  {
   "cell_type": "code",
   "execution_count": 11,
   "id": "9535cb2c-7fe1-4890-8509-178b7ee7108e",
   "metadata": {},
   "outputs": [
    {
     "data": {
      "text/plain": [
       "index                   0\n",
       "dateCrawled             0\n",
       "name                    0\n",
       "seller                  0\n",
       "offerType               0\n",
       "price                  11\n",
       "abtest                  0\n",
       "vehicleType             0\n",
       "yearOfRegistration      0\n",
       "gearbox                 0\n",
       "powerPS                 0\n",
       "model                   0\n",
       "kilometer              11\n",
       "monthOfRegistration     0\n",
       "fuelType                0\n",
       "brand                   0\n",
       "notRepairedDamage       0\n",
       "dateCreated             0\n",
       "nrOfPictures            0\n",
       "postalCode              0\n",
       "lastSeen                0\n",
       "dtype: int64"
      ]
     },
     "execution_count": 11,
     "metadata": {},
     "output_type": "execute_result"
    }
   ],
   "source": [
    "strategi1 = SimpleImputer(strategy=\"most_frequent\")\n",
    "\n",
    "kolom_isinull = ['model','vehicleType','gearbox','fuelType','notRepairedDamage']\n",
    "\n",
    "df[kolom_isinull] = strategi1.fit_transform(df[kolom_isinull])\n",
    "\n",
    "df.isna().sum()"
   ]
  },
  {
   "cell_type": "markdown",
   "id": "9eac238f-c794-4aee-b637-3151e15df66c",
   "metadata": {},
   "source": [
    "Menggunakan strategi median untuk isi data null pada kolom price"
   ]
  },
  {
   "cell_type": "code",
   "execution_count": 12,
   "id": "fb216fe3-ae6b-494b-8e4d-06eee627552c",
   "metadata": {},
   "outputs": [
    {
     "data": {
      "text/plain": [
       "index                   0\n",
       "dateCrawled             0\n",
       "name                    0\n",
       "seller                  0\n",
       "offerType               0\n",
       "price                   0\n",
       "abtest                  0\n",
       "vehicleType             0\n",
       "yearOfRegistration      0\n",
       "gearbox                 0\n",
       "powerPS                 0\n",
       "model                   0\n",
       "kilometer              11\n",
       "monthOfRegistration     0\n",
       "fuelType                0\n",
       "brand                   0\n",
       "notRepairedDamage       0\n",
       "dateCreated             0\n",
       "nrOfPictures            0\n",
       "postalCode              0\n",
       "lastSeen                0\n",
       "dtype: int64"
      ]
     },
     "execution_count": 12,
     "metadata": {},
     "output_type": "execute_result"
    }
   ],
   "source": [
    "strategi2 = SimpleImputer(strategy=\"median\")\n",
    "\n",
    "df[\"price\"] = strategi2.fit_transform(df[[\"price\"]])\n",
    "\n",
    "df.isna().sum()"
   ]
  },
  {
   "cell_type": "code",
   "execution_count": 13,
   "id": "dd337479-502f-4bcc-a5d9-95f0d8724548",
   "metadata": {},
   "outputs": [
    {
     "name": "stdout",
     "output_type": "stream",
     "text": [
      "15      2950.0\n",
      "100     2950.0\n",
      "200     2950.0\n",
      "300     2950.0\n",
      "400     2950.0\n",
      "500     2950.0\n",
      "600     2950.0\n",
      "700     2950.0\n",
      "800     2950.0\n",
      "900     2950.0\n",
      "1000    2950.0\n",
      "Name: price, dtype: float64\n"
     ]
    }
   ],
   "source": [
    "print(df.price[[15,100,200,300,400,500,600,700,800,900,1000]])"
   ]
  },
  {
   "cell_type": "markdown",
   "id": "320ea650-7e81-4176-9a99-d3d51671ebcf",
   "metadata": {},
   "source": [
    "Menggunakan strategi mean untuk mengisi data null pada kolom kilometer"
   ]
  },
  {
   "cell_type": "code",
   "execution_count": 14,
   "id": "4dfbb9b8-c509-481a-a667-38abb5b1afc7",
   "metadata": {},
   "outputs": [
    {
     "data": {
      "text/plain": [
       "index                  0\n",
       "dateCrawled            0\n",
       "name                   0\n",
       "seller                 0\n",
       "offerType              0\n",
       "price                  0\n",
       "abtest                 0\n",
       "vehicleType            0\n",
       "yearOfRegistration     0\n",
       "gearbox                0\n",
       "powerPS                0\n",
       "model                  0\n",
       "kilometer              0\n",
       "monthOfRegistration    0\n",
       "fuelType               0\n",
       "brand                  0\n",
       "notRepairedDamage      0\n",
       "dateCreated            0\n",
       "nrOfPictures           0\n",
       "postalCode             0\n",
       "lastSeen               0\n",
       "dtype: int64"
      ]
     },
     "execution_count": 14,
     "metadata": {},
     "output_type": "execute_result"
    }
   ],
   "source": [
    "strategi3 = SimpleImputer(strategy=\"mean\")\n",
    "\n",
    "df[\"kilometer\"] = strategi3.fit_transform(df[[\"kilometer\"]])\n",
    "\n",
    "df.isna().sum()"
   ]
  },
  {
   "cell_type": "code",
   "execution_count": 15,
   "id": "04bef85f-4744-4c5d-bbd5-0857fea2aece",
   "metadata": {},
   "outputs": [
    {
     "name": "stdout",
     "output_type": "stream",
     "text": [
      "15      125618.746921\n",
      "100     125618.746921\n",
      "200     125618.746921\n",
      "300     125618.746921\n",
      "400     125618.746921\n",
      "500     125618.746921\n",
      "600     125618.746921\n",
      "700     125618.746921\n",
      "800     125618.746921\n",
      "900     125618.746921\n",
      "1000    125618.746921\n",
      "Name: kilometer, dtype: float64\n"
     ]
    }
   ],
   "source": [
    "print(df.kilometer[[15,100,200,300,400,500,600,700,800,900,1000]])"
   ]
  },
  {
   "cell_type": "markdown",
   "id": "ab976b9b-c1ec-46f2-a6f9-f08a5f559671",
   "metadata": {},
   "source": [
    "#### 5. Data Cleaning"
   ]
  },
  {
   "cell_type": "markdown",
   "id": "32753cc7-0579-4b94-8061-8fd817ff2268",
   "metadata": {},
   "source": [
    "Mengecek Data Duplikat Pada Dataset"
   ]
  },
  {
   "cell_type": "code",
   "execution_count": 16,
   "id": "063dc3d7-3929-4344-b3bb-0b75d9576465",
   "metadata": {},
   "outputs": [
    {
     "name": "stdout",
     "output_type": "stream",
     "text": [
      "Jumlah Data Duplikat : \n"
     ]
    },
    {
     "data": {
      "text/plain": [
       "0"
      ]
     },
     "execution_count": 16,
     "metadata": {},
     "output_type": "execute_result"
    }
   ],
   "source": [
    "df[df.duplicated()]\n",
    "\n",
    "print(\"Jumlah Data Duplikat : \")\n",
    "df.duplicated().sum() "
   ]
  },
  {
   "cell_type": "markdown",
   "id": "b8b688a3-db6c-4954-98c8-d02f9361822b",
   "metadata": {},
   "source": [
    "Membuat Data duplikat 2x dari dataset"
   ]
  },
  {
   "cell_type": "code",
   "execution_count": 17,
   "id": "30e71d07-6f6a-48e5-a362-1613a1feffa3",
   "metadata": {},
   "outputs": [],
   "source": [
    "df = pd.concat([df]*2, ignore_index=True)"
   ]
  },
  {
   "cell_type": "code",
   "execution_count": 18,
   "id": "9e1e79ed-410c-408a-a223-2d6eddb1c5a2",
   "metadata": {},
   "outputs": [
    {
     "name": "stdout",
     "output_type": "stream",
     "text": [
      "Jumlah Data Duplikat : \n"
     ]
    },
    {
     "data": {
      "text/plain": [
       "371528"
      ]
     },
     "execution_count": 18,
     "metadata": {},
     "output_type": "execute_result"
    }
   ],
   "source": [
    "df[df.duplicated()]\n",
    "\n",
    "print(\"Jumlah Data Duplikat : \")\n",
    "df.duplicated().sum()"
   ]
  },
  {
   "cell_type": "markdown",
   "id": "525c1c17-b18d-45d3-ba7e-c740b730be2c",
   "metadata": {},
   "source": [
    "Hapus Data Duplikat"
   ]
  },
  {
   "cell_type": "code",
   "execution_count": 19,
   "id": "c848a2ff-ddd3-4c89-9ccf-4b3fcd3661d1",
   "metadata": {},
   "outputs": [
    {
     "name": "stdout",
     "output_type": "stream",
     "text": [
      "Jumlah data duplicated setelah di drop :\n"
     ]
    },
    {
     "data": {
      "text/plain": [
       "0"
      ]
     },
     "execution_count": 19,
     "metadata": {},
     "output_type": "execute_result"
    }
   ],
   "source": [
    "df.drop_duplicates(inplace=True)\n",
    "\n",
    "hasil = df.reset_index(drop=True)\n",
    "print(\"Jumlah data duplicated setelah di drop :\")\n",
    "hasil.duplicated().sum()     "
   ]
  },
  {
   "cell_type": "markdown",
   "id": "0eb1d6a5-e6f3-4104-b88d-e1dcbe0bb795",
   "metadata": {},
   "source": [
    "#### 6. Data Transformation"
   ]
  },
  {
   "cell_type": "code",
   "execution_count": 23,
   "id": "4208958c-5d29-45e6-b454-98f6904256fa",
   "metadata": {},
   "outputs": [
    {
     "name": "stdout",
     "output_type": "stream",
     "text": [
      "Tipe data powerPS Sebelum di ubah :\n"
     ]
    },
    {
     "data": {
      "text/plain": [
       "index                    int64\n",
       "dateCrawled             object\n",
       "name                    object\n",
       "seller                  object\n",
       "offerType               object\n",
       "price                  float64\n",
       "abtest                  object\n",
       "vehicleType             object\n",
       "yearOfRegistration       int64\n",
       "gearbox                 object\n",
       "powerPS                float64\n",
       "model                   object\n",
       "kilometer              float64\n",
       "monthOfRegistration      int64\n",
       "fuelType                object\n",
       "brand                   object\n",
       "notRepairedDamage       object\n",
       "dateCreated             object\n",
       "nrOfPictures             int64\n",
       "postalCode               int64\n",
       "lastSeen                object\n",
       "dtype: object"
      ]
     },
     "execution_count": 23,
     "metadata": {},
     "output_type": "execute_result"
    }
   ],
   "source": [
    "print(\"Tipe data powerPS Sebelum di ubah :\")\n",
    "df.dtypes"
   ]
  },
  {
   "cell_type": "markdown",
   "id": "5ebad30d-f794-4976-badd-693fa7f648ff",
   "metadata": {},
   "source": [
    "**Mengubah Tipe data PowerPS ke float64**"
   ]
  },
  {
   "cell_type": "code",
   "execution_count": 24,
   "id": "0fb69b17-f22d-4831-9563-07204258f1d3",
   "metadata": {},
   "outputs": [
    {
     "name": "stdout",
     "output_type": "stream",
     "text": [
      "Tipe data powerPS sesudah di ubah :\n"
     ]
    },
    {
     "data": {
      "text/plain": [
       "index                    int64\n",
       "dateCrawled             object\n",
       "name                    object\n",
       "seller                  object\n",
       "offerType               object\n",
       "price                  float64\n",
       "abtest                  object\n",
       "vehicleType             object\n",
       "yearOfRegistration       int64\n",
       "gearbox                 object\n",
       "powerPS                float64\n",
       "model                   object\n",
       "kilometer              float64\n",
       "monthOfRegistration      int64\n",
       "fuelType                object\n",
       "brand                   object\n",
       "notRepairedDamage       object\n",
       "dateCreated             object\n",
       "nrOfPictures             int64\n",
       "postalCode               int64\n",
       "lastSeen                object\n",
       "dtype: object"
      ]
     },
     "execution_count": 24,
     "metadata": {},
     "output_type": "execute_result"
    }
   ],
   "source": [
    "df['powerPS'] = df['powerPS'].astype('float64')\n",
    "\n",
    "print(\"Tipe data powerPS sesudah di ubah :\")\n",
    "df.dtypes"
   ]
  },
  {
   "cell_type": "markdown",
   "id": "d7f9f2eb-c41e-466e-aab6-2e30e6abcd46",
   "metadata": {},
   "source": [
    "#### 7. Menggunakan OneHotEncoder pada kolom fuelType"
   ]
  },
  {
   "cell_type": "code",
   "execution_count": 22,
   "id": "ca68275d-3b52-46dd-acda-7e9fd887b4e0",
   "metadata": {},
   "outputs": [
    {
     "name": "stderr",
     "output_type": "stream",
     "text": [
      "D:\\SEMESTER 5\\Praktikum KB\\POSTTEST1\\venv_C2-21\\ihsan_135\\lib\\site-packages\\sklearn\\preprocessing\\_encoders.py:975: FutureWarning: `sparse` was renamed to `sparse_output` in version 1.2 and will be removed in 1.4. `sparse_output` is ignored unless you leave `sparse` to its default value.\n",
      "  warnings.warn(\n"
     ]
    },
    {
     "data": {
      "text/html": [
       "<div>\n",
       "<style scoped>\n",
       "    .dataframe tbody tr th:only-of-type {\n",
       "        vertical-align: middle;\n",
       "    }\n",
       "\n",
       "    .dataframe tbody tr th {\n",
       "        vertical-align: top;\n",
       "    }\n",
       "\n",
       "    .dataframe thead th {\n",
       "        text-align: right;\n",
       "    }\n",
       "</style>\n",
       "<table border=\"1\" class=\"dataframe\">\n",
       "  <thead>\n",
       "    <tr style=\"text-align: right;\">\n",
       "      <th></th>\n",
       "      <th>index</th>\n",
       "      <th>dateCrawled</th>\n",
       "      <th>name</th>\n",
       "      <th>seller</th>\n",
       "      <th>offerType</th>\n",
       "      <th>price</th>\n",
       "      <th>abtest</th>\n",
       "      <th>vehicleType</th>\n",
       "      <th>yearOfRegistration</th>\n",
       "      <th>gearbox</th>\n",
       "      <th>...</th>\n",
       "      <th>nrOfPictures</th>\n",
       "      <th>postalCode</th>\n",
       "      <th>lastSeen</th>\n",
       "      <th>0</th>\n",
       "      <th>1</th>\n",
       "      <th>2</th>\n",
       "      <th>3</th>\n",
       "      <th>4</th>\n",
       "      <th>5</th>\n",
       "      <th>6</th>\n",
       "    </tr>\n",
       "  </thead>\n",
       "  <tbody>\n",
       "    <tr>\n",
       "      <th>0</th>\n",
       "      <td>0</td>\n",
       "      <td>2016-03-24 11:52:17</td>\n",
       "      <td>Golf_3_1.6</td>\n",
       "      <td>privat</td>\n",
       "      <td>Angebot</td>\n",
       "      <td>480.0</td>\n",
       "      <td>test</td>\n",
       "      <td>limousine</td>\n",
       "      <td>1993</td>\n",
       "      <td>manuell</td>\n",
       "      <td>...</td>\n",
       "      <td>0</td>\n",
       "      <td>70435</td>\n",
       "      <td>2016-04-07 03:16:57</td>\n",
       "      <td>0.0</td>\n",
       "      <td>1.0</td>\n",
       "      <td>0.0</td>\n",
       "      <td>0.0</td>\n",
       "      <td>0.0</td>\n",
       "      <td>0.0</td>\n",
       "      <td>0.0</td>\n",
       "    </tr>\n",
       "    <tr>\n",
       "      <th>1</th>\n",
       "      <td>1</td>\n",
       "      <td>2016-03-24 10:58:45</td>\n",
       "      <td>A5_Sportback_2.7_Tdi</td>\n",
       "      <td>privat</td>\n",
       "      <td>Angebot</td>\n",
       "      <td>18300.0</td>\n",
       "      <td>test</td>\n",
       "      <td>coupe</td>\n",
       "      <td>2011</td>\n",
       "      <td>manuell</td>\n",
       "      <td>...</td>\n",
       "      <td>0</td>\n",
       "      <td>66954</td>\n",
       "      <td>2016-04-07 01:46:50</td>\n",
       "      <td>0.0</td>\n",
       "      <td>0.0</td>\n",
       "      <td>0.0</td>\n",
       "      <td>1.0</td>\n",
       "      <td>0.0</td>\n",
       "      <td>0.0</td>\n",
       "      <td>0.0</td>\n",
       "    </tr>\n",
       "    <tr>\n",
       "      <th>2</th>\n",
       "      <td>2</td>\n",
       "      <td>2016-03-14 12:52:21</td>\n",
       "      <td>Jeep_Grand_Cherokee_\"Overland\"</td>\n",
       "      <td>privat</td>\n",
       "      <td>Angebot</td>\n",
       "      <td>9800.0</td>\n",
       "      <td>test</td>\n",
       "      <td>suv</td>\n",
       "      <td>2004</td>\n",
       "      <td>automatik</td>\n",
       "      <td>...</td>\n",
       "      <td>0</td>\n",
       "      <td>90480</td>\n",
       "      <td>2016-04-05 12:47:46</td>\n",
       "      <td>0.0</td>\n",
       "      <td>0.0</td>\n",
       "      <td>0.0</td>\n",
       "      <td>1.0</td>\n",
       "      <td>0.0</td>\n",
       "      <td>0.0</td>\n",
       "      <td>0.0</td>\n",
       "    </tr>\n",
       "    <tr>\n",
       "      <th>3</th>\n",
       "      <td>3</td>\n",
       "      <td>2016-03-17 16:54:04</td>\n",
       "      <td>GOLF_4_1_4__3TÜRER</td>\n",
       "      <td>privat</td>\n",
       "      <td>Angebot</td>\n",
       "      <td>1500.0</td>\n",
       "      <td>test</td>\n",
       "      <td>kleinwagen</td>\n",
       "      <td>2001</td>\n",
       "      <td>manuell</td>\n",
       "      <td>...</td>\n",
       "      <td>0</td>\n",
       "      <td>91074</td>\n",
       "      <td>2016-03-17 17:40:17</td>\n",
       "      <td>0.0</td>\n",
       "      <td>1.0</td>\n",
       "      <td>0.0</td>\n",
       "      <td>0.0</td>\n",
       "      <td>0.0</td>\n",
       "      <td>0.0</td>\n",
       "      <td>0.0</td>\n",
       "    </tr>\n",
       "    <tr>\n",
       "      <th>4</th>\n",
       "      <td>4</td>\n",
       "      <td>2016-03-31 17:25:20</td>\n",
       "      <td>Skoda_Fabia_1.4_TDI_PD_Classic</td>\n",
       "      <td>privat</td>\n",
       "      <td>Angebot</td>\n",
       "      <td>3600.0</td>\n",
       "      <td>test</td>\n",
       "      <td>kleinwagen</td>\n",
       "      <td>2008</td>\n",
       "      <td>manuell</td>\n",
       "      <td>...</td>\n",
       "      <td>0</td>\n",
       "      <td>60437</td>\n",
       "      <td>2016-04-06 10:17:21</td>\n",
       "      <td>0.0</td>\n",
       "      <td>0.0</td>\n",
       "      <td>0.0</td>\n",
       "      <td>1.0</td>\n",
       "      <td>0.0</td>\n",
       "      <td>0.0</td>\n",
       "      <td>0.0</td>\n",
       "    </tr>\n",
       "  </tbody>\n",
       "</table>\n",
       "<p>5 rows × 28 columns</p>\n",
       "</div>"
      ],
      "text/plain": [
       "   index          dateCrawled                            name  seller  \\\n",
       "0      0  2016-03-24 11:52:17                      Golf_3_1.6  privat   \n",
       "1      1  2016-03-24 10:58:45            A5_Sportback_2.7_Tdi  privat   \n",
       "2      2  2016-03-14 12:52:21  Jeep_Grand_Cherokee_\"Overland\"  privat   \n",
       "3      3  2016-03-17 16:54:04              GOLF_4_1_4__3TÜRER  privat   \n",
       "4      4  2016-03-31 17:25:20  Skoda_Fabia_1.4_TDI_PD_Classic  privat   \n",
       "\n",
       "  offerType    price abtest vehicleType  yearOfRegistration    gearbox  ...  \\\n",
       "0   Angebot    480.0   test   limousine                1993    manuell  ...   \n",
       "1   Angebot  18300.0   test       coupe                2011    manuell  ...   \n",
       "2   Angebot   9800.0   test         suv                2004  automatik  ...   \n",
       "3   Angebot   1500.0   test  kleinwagen                2001    manuell  ...   \n",
       "4   Angebot   3600.0   test  kleinwagen                2008    manuell  ...   \n",
       "\n",
       "   nrOfPictures postalCode             lastSeen    0    1    2    3    4    5  \\\n",
       "0             0      70435  2016-04-07 03:16:57  0.0  1.0  0.0  0.0  0.0  0.0   \n",
       "1             0      66954  2016-04-07 01:46:50  0.0  0.0  0.0  1.0  0.0  0.0   \n",
       "2             0      90480  2016-04-05 12:47:46  0.0  0.0  0.0  1.0  0.0  0.0   \n",
       "3             0      91074  2016-03-17 17:40:17  0.0  1.0  0.0  0.0  0.0  0.0   \n",
       "4             0      60437  2016-04-06 10:17:21  0.0  0.0  0.0  1.0  0.0  0.0   \n",
       "\n",
       "     6  \n",
       "0  0.0  \n",
       "1  0.0  \n",
       "2  0.0  \n",
       "3  0.0  \n",
       "4  0.0  \n",
       "\n",
       "[5 rows x 28 columns]"
      ]
     },
     "execution_count": 22,
     "metadata": {},
     "output_type": "execute_result"
    }
   ],
   "source": [
    "one_encoder = OneHotEncoder(sparse=False)\n",
    "\n",
    "onehot = one_encoder.fit_transform(df[[\"fuelType\"]])\n",
    "df_onehot = pd.DataFrame(onehot)\n",
    "df_encoder = df.join(df_onehot)\n",
    "df_encoder.head()"
   ]
  }
 ],
 "metadata": {
  "kernelspec": {
   "display_name": "ihsan_135",
   "language": "python",
   "name": "ihsan_135"
  },
  "language_info": {
   "codemirror_mode": {
    "name": "ipython",
    "version": 3
   },
   "file_extension": ".py",
   "mimetype": "text/x-python",
   "name": "python",
   "nbconvert_exporter": "python",
   "pygments_lexer": "ipython3",
   "version": "3.10.7"
  }
 },
 "nbformat": 4,
 "nbformat_minor": 5
}
