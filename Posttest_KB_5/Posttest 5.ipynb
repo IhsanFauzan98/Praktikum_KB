{
 "cells": [
  {
   "cell_type": "markdown",
   "id": "e0e63471-64ae-4f7d-a041-56896d18e970",
   "metadata": {},
   "source": [
    "# PENDEKATAN MACHINE LEARNING"
   ]
  },
  {
   "cell_type": "markdown",
   "id": "2bf2bc00-4fdc-4d51-87e3-8eb12150b2f0",
   "metadata": {},
   "source": [
    "### Link dataset : https://docs.google.com/spreadsheets/d/15HDXsDWn4AMPe-dO-yJ8ENIOOThimtkw5LW7DfhCd4c/edit#gid=877757415"
   ]
  },
  {
   "cell_type": "markdown",
   "id": "a1ea29ae-4dc3-4348-a8b3-96f33cf66c1f",
   "metadata": {},
   "source": [
    "## MENGIMPORT LIBRARY"
   ]
  },
  {
   "cell_type": "code",
   "execution_count": 1,
   "id": "89c20bea-7796-44c1-a593-e9d571055f1a",
   "metadata": {},
   "outputs": [],
   "source": [
    "import pandas as pd\n",
    "import matplotlib.pyplot as plt\n",
    "import numpy as np\n",
    "import seaborn as sns\n",
    "from sklearn.preprocessing import MinMaxScaler, StandardScaler, OneHotEncoder\n",
    "from sklearn.impute import SimpleImputer\n",
    "from sklearn.svm import SVC\n",
    "from sklearn.linear_model import LinearRegression\n",
    "from sklearn.model_selection import train_test_split\n",
    "from sklearn.cluster import KMeans\n",
    "from sklearn.metrics import classification_report, adjusted_rand_score, normalized_mutual_info_score, homogeneity_score, completeness_score, v_measure_score, mean_absolute_error, mean_squared_error, r2_score"
   ]
  },
  {
   "cell_type": "code",
   "execution_count": 2,
   "id": "b6c0a91f-b2f9-44a3-bb3d-09191f3b4aa4",
   "metadata": {},
   "outputs": [],
   "source": [
    "df = pd.read_csv(\"autos.csv\")\n",
    "df.drop(df.index[1500:370325], inplace=True)"
   ]
  },
  {
   "cell_type": "code",
   "execution_count": 3,
   "id": "768c6864-1743-4a5e-a007-245427bed43c",
   "metadata": {},
   "outputs": [],
   "source": [
    "strategi1 = SimpleImputer(strategy=\"most_frequent\")\n",
    "\n",
    "kolom_isinull = ['model','vehicleType','gearbox','fuelType','notRepairedDamage']\n",
    "\n",
    "df[kolom_isinull] = strategi1.fit_transform(df[kolom_isinull])\n",
    "\n"
   ]
  },
  {
   "cell_type": "code",
   "execution_count": 4,
   "id": "4c96e044-4c06-473c-9b0d-d8a76a6de7b6",
   "metadata": {},
   "outputs": [],
   "source": [
    "strategi2 = SimpleImputer(strategy=\"median\")\n",
    "\n",
    "df[\"price\"] = strategi2.fit_transform(df[[\"price\"]])\n"
   ]
  },
  {
   "cell_type": "code",
   "execution_count": 5,
   "id": "2a95b148-a266-47ec-8e77-6212f8d68093",
   "metadata": {},
   "outputs": [],
   "source": [
    "strategi3 = SimpleImputer(strategy=\"mean\")\n",
    "\n",
    "df[\"kilometer\"] = strategi3.fit_transform(df[[\"kilometer\"]])\n"
   ]
  },
  {
   "cell_type": "code",
   "execution_count": 6,
   "id": "8a1c7eb9-40c3-44bf-ad34-0f20bf939375",
   "metadata": {},
   "outputs": [
    {
     "name": "stderr",
     "output_type": "stream",
     "text": [
      "D:\\SEMESTER 5\\Praktikum KB\\POSTTEST1\\venv_C2-21\\ihsan_135\\lib\\site-packages\\sklearn\\preprocessing\\_encoders.py:975: FutureWarning: `sparse` was renamed to `sparse_output` in version 1.2 and will be removed in 1.4. `sparse_output` is ignored unless you leave `sparse` to its default value.\n",
      "  warnings.warn(\n"
     ]
    },
    {
     "data": {
      "text/html": [
       "<div>\n",
       "<style scoped>\n",
       "    .dataframe tbody tr th:only-of-type {\n",
       "        vertical-align: middle;\n",
       "    }\n",
       "\n",
       "    .dataframe tbody tr th {\n",
       "        vertical-align: top;\n",
       "    }\n",
       "\n",
       "    .dataframe thead th {\n",
       "        text-align: right;\n",
       "    }\n",
       "</style>\n",
       "<table border=\"1\" class=\"dataframe\">\n",
       "  <thead>\n",
       "    <tr style=\"text-align: right;\">\n",
       "      <th></th>\n",
       "      <th>index</th>\n",
       "      <th>dateCrawled</th>\n",
       "      <th>name</th>\n",
       "      <th>seller</th>\n",
       "      <th>offerType</th>\n",
       "      <th>price</th>\n",
       "      <th>abtest</th>\n",
       "      <th>vehicleType</th>\n",
       "      <th>yearOfRegistration</th>\n",
       "      <th>gearbox</th>\n",
       "      <th>...</th>\n",
       "      <th>model</th>\n",
       "      <th>kilometer</th>\n",
       "      <th>monthOfRegistration</th>\n",
       "      <th>fuelType</th>\n",
       "      <th>brand</th>\n",
       "      <th>notRepairedDamage</th>\n",
       "      <th>dateCreated</th>\n",
       "      <th>nrOfPictures</th>\n",
       "      <th>postalCode</th>\n",
       "      <th>lastSeen</th>\n",
       "    </tr>\n",
       "  </thead>\n",
       "  <tbody>\n",
       "    <tr>\n",
       "      <th>0</th>\n",
       "      <td>0</td>\n",
       "      <td>2016-03-24 11:52:17</td>\n",
       "      <td>Golf_3_1.6</td>\n",
       "      <td>privat</td>\n",
       "      <td>Angebot</td>\n",
       "      <td>480.0</td>\n",
       "      <td>test</td>\n",
       "      <td>limousine</td>\n",
       "      <td>1993</td>\n",
       "      <td>manuell</td>\n",
       "      <td>...</td>\n",
       "      <td>golf</td>\n",
       "      <td>150000.0</td>\n",
       "      <td>0</td>\n",
       "      <td>0.0</td>\n",
       "      <td>volkswagen</td>\n",
       "      <td>nein</td>\n",
       "      <td>2016-03-24 00:00:00</td>\n",
       "      <td>0</td>\n",
       "      <td>70435</td>\n",
       "      <td>2016-04-07 03:16:57</td>\n",
       "    </tr>\n",
       "    <tr>\n",
       "      <th>1</th>\n",
       "      <td>1</td>\n",
       "      <td>2016-03-24 10:58:45</td>\n",
       "      <td>A5_Sportback_2.7_Tdi</td>\n",
       "      <td>privat</td>\n",
       "      <td>Angebot</td>\n",
       "      <td>18300.0</td>\n",
       "      <td>test</td>\n",
       "      <td>coupe</td>\n",
       "      <td>2011</td>\n",
       "      <td>manuell</td>\n",
       "      <td>...</td>\n",
       "      <td>golf</td>\n",
       "      <td>125000.0</td>\n",
       "      <td>5</td>\n",
       "      <td>0.0</td>\n",
       "      <td>audi</td>\n",
       "      <td>ja</td>\n",
       "      <td>2016-03-24 00:00:00</td>\n",
       "      <td>0</td>\n",
       "      <td>66954</td>\n",
       "      <td>2016-04-07 01:46:50</td>\n",
       "    </tr>\n",
       "    <tr>\n",
       "      <th>2</th>\n",
       "      <td>2</td>\n",
       "      <td>2016-03-14 12:52:21</td>\n",
       "      <td>Jeep_Grand_Cherokee_\"Overland\"</td>\n",
       "      <td>privat</td>\n",
       "      <td>Angebot</td>\n",
       "      <td>9800.0</td>\n",
       "      <td>test</td>\n",
       "      <td>suv</td>\n",
       "      <td>2004</td>\n",
       "      <td>automatik</td>\n",
       "      <td>...</td>\n",
       "      <td>grand</td>\n",
       "      <td>125000.0</td>\n",
       "      <td>8</td>\n",
       "      <td>0.0</td>\n",
       "      <td>jeep</td>\n",
       "      <td>nein</td>\n",
       "      <td>2016-03-14 00:00:00</td>\n",
       "      <td>0</td>\n",
       "      <td>90480</td>\n",
       "      <td>2016-04-05 12:47:46</td>\n",
       "    </tr>\n",
       "    <tr>\n",
       "      <th>3</th>\n",
       "      <td>3</td>\n",
       "      <td>2016-03-17 16:54:04</td>\n",
       "      <td>GOLF_4_1_4__3TÜRER</td>\n",
       "      <td>privat</td>\n",
       "      <td>Angebot</td>\n",
       "      <td>1500.0</td>\n",
       "      <td>test</td>\n",
       "      <td>kleinwagen</td>\n",
       "      <td>2001</td>\n",
       "      <td>manuell</td>\n",
       "      <td>...</td>\n",
       "      <td>golf</td>\n",
       "      <td>150000.0</td>\n",
       "      <td>6</td>\n",
       "      <td>0.0</td>\n",
       "      <td>volkswagen</td>\n",
       "      <td>nein</td>\n",
       "      <td>2016-03-17 00:00:00</td>\n",
       "      <td>0</td>\n",
       "      <td>91074</td>\n",
       "      <td>2016-03-17 17:40:17</td>\n",
       "    </tr>\n",
       "    <tr>\n",
       "      <th>4</th>\n",
       "      <td>4</td>\n",
       "      <td>2016-03-31 17:25:20</td>\n",
       "      <td>Skoda_Fabia_1.4_TDI_PD_Classic</td>\n",
       "      <td>privat</td>\n",
       "      <td>Angebot</td>\n",
       "      <td>3600.0</td>\n",
       "      <td>test</td>\n",
       "      <td>kleinwagen</td>\n",
       "      <td>2008</td>\n",
       "      <td>manuell</td>\n",
       "      <td>...</td>\n",
       "      <td>fabia</td>\n",
       "      <td>90000.0</td>\n",
       "      <td>7</td>\n",
       "      <td>0.0</td>\n",
       "      <td>skoda</td>\n",
       "      <td>nein</td>\n",
       "      <td>2016-03-31 00:00:00</td>\n",
       "      <td>0</td>\n",
       "      <td>60437</td>\n",
       "      <td>2016-04-06 10:17:21</td>\n",
       "    </tr>\n",
       "  </tbody>\n",
       "</table>\n",
       "<p>5 rows × 21 columns</p>\n",
       "</div>"
      ],
      "text/plain": [
       "   index          dateCrawled                            name  seller  \\\n",
       "0      0  2016-03-24 11:52:17                      Golf_3_1.6  privat   \n",
       "1      1  2016-03-24 10:58:45            A5_Sportback_2.7_Tdi  privat   \n",
       "2      2  2016-03-14 12:52:21  Jeep_Grand_Cherokee_\"Overland\"  privat   \n",
       "3      3  2016-03-17 16:54:04              GOLF_4_1_4__3TÜRER  privat   \n",
       "4      4  2016-03-31 17:25:20  Skoda_Fabia_1.4_TDI_PD_Classic  privat   \n",
       "\n",
       "  offerType    price abtest vehicleType  yearOfRegistration    gearbox  ...  \\\n",
       "0   Angebot    480.0   test   limousine                1993    manuell  ...   \n",
       "1   Angebot  18300.0   test       coupe                2011    manuell  ...   \n",
       "2   Angebot   9800.0   test         suv                2004  automatik  ...   \n",
       "3   Angebot   1500.0   test  kleinwagen                2001    manuell  ...   \n",
       "4   Angebot   3600.0   test  kleinwagen                2008    manuell  ...   \n",
       "\n",
       "   model kilometer  monthOfRegistration  fuelType       brand  \\\n",
       "0   golf  150000.0                    0       0.0  volkswagen   \n",
       "1   golf  125000.0                    5       0.0        audi   \n",
       "2  grand  125000.0                    8       0.0        jeep   \n",
       "3   golf  150000.0                    6       0.0  volkswagen   \n",
       "4  fabia   90000.0                    7       0.0       skoda   \n",
       "\n",
       "  notRepairedDamage          dateCreated nrOfPictures  postalCode  \\\n",
       "0              nein  2016-03-24 00:00:00            0       70435   \n",
       "1                ja  2016-03-24 00:00:00            0       66954   \n",
       "2              nein  2016-03-14 00:00:00            0       90480   \n",
       "3              nein  2016-03-17 00:00:00            0       91074   \n",
       "4              nein  2016-03-31 00:00:00            0       60437   \n",
       "\n",
       "              lastSeen  \n",
       "0  2016-04-07 03:16:57  \n",
       "1  2016-04-07 01:46:50  \n",
       "2  2016-04-05 12:47:46  \n",
       "3  2016-03-17 17:40:17  \n",
       "4  2016-04-06 10:17:21  \n",
       "\n",
       "[5 rows x 21 columns]"
      ]
     },
     "execution_count": 6,
     "metadata": {},
     "output_type": "execute_result"
    }
   ],
   "source": [
    "one_encoder = OneHotEncoder(sparse=False)\n",
    "\n",
    "df[\"fuelType\"] = one_encoder.fit_transform(df[[\"fuelType\"]])\n",
    "df.head()"
   ]
  },
  {
   "cell_type": "markdown",
   "id": "62c9d538-24d6-478a-bf73-c6cbf1fec782",
   "metadata": {},
   "source": [
    "## MENGURANGI DATA KARENA KEBANYAKAN"
   ]
  },
  {
   "cell_type": "markdown",
   "id": "5736edaa-3611-43d9-be4c-7d44d2752750",
   "metadata": {},
   "source": [
    "## Supervised Learning\n"
   ]
  },
  {
   "cell_type": "markdown",
   "id": "2f0b1010-00eb-4e14-9af1-891a33e84dc2",
   "metadata": {},
   "source": [
    "## SVM digunakan pada label kategorikal dan mengambil 2 fitur untuk binary clasification"
   ]
  },
  {
   "cell_type": "code",
   "execution_count": 30,
   "id": "b76532c9-ceea-43c8-985b-6fee1d43dd29",
   "metadata": {},
   "outputs": [],
   "source": [
    "X = df[['price', 'yearOfRegistration']]\n",
    "y = df['gearbox']"
   ]
  },
  {
   "cell_type": "markdown",
   "id": "9f95ecfe-dc67-4d2f-9999-413526c4a88c",
   "metadata": {},
   "source": [
    "## memetakan kelas target ke label biner"
   ]
  },
  {
   "cell_type": "code",
   "execution_count": 8,
   "id": "3a59f467-9229-40be-a0a4-c466a6f3c043",
   "metadata": {},
   "outputs": [],
   "source": [
    "y = np.where(y == 'Belgian', 1, -1)"
   ]
  },
  {
   "cell_type": "markdown",
   "id": "96f77dfb-6902-4e7d-9ce3-ce109b4d96cf",
   "metadata": {},
   "source": [
    "## membagi data ke train set dan test set"
   ]
  },
  {
   "cell_type": "code",
   "execution_count": 9,
   "id": "e304e980-92aa-44dd-8816-d9941b8ef6b9",
   "metadata": {},
   "outputs": [],
   "source": [
    "X_train, X_test, y_train, y_test = train_test_split(X, y, test_size=0.3, random_state=42)"
   ]
  },
  {
   "cell_type": "markdown",
   "id": "2314a97a-1ccb-48f4-933f-6f77b0d43e07",
   "metadata": {},
   "source": [
    "## membuat objek classifier SVM"
   ]
  },
  {
   "cell_type": "code",
   "execution_count": 10,
   "id": "400881d5-06b3-482d-993b-6a5b632f7910",
   "metadata": {},
   "outputs": [],
   "source": [
    "svm = SVC(kernel=\"linear\")"
   ]
  },
  {
   "cell_type": "markdown",
   "id": "19226e76-bc3b-4383-b421-38c41615b097",
   "metadata": {},
   "source": [
    "## melatih data dengan data train"
   ]
  },
  {
   "cell_type": "code",
   "execution_count": 11,
   "id": "4d156c19-7ee6-40c2-88d3-758a59a77f01",
   "metadata": {},
   "outputs": [
    {
     "ename": "ValueError",
     "evalue": "The number of classes has to be greater than one; got 1 class",
     "output_type": "error",
     "traceback": [
      "\u001b[1;31m---------------------------------------------------------------------------\u001b[0m",
      "\u001b[1;31mValueError\u001b[0m                                Traceback (most recent call last)",
      "Cell \u001b[1;32mIn[11], line 1\u001b[0m\n\u001b[1;32m----> 1\u001b[0m \u001b[43msvm\u001b[49m\u001b[38;5;241;43m.\u001b[39;49m\u001b[43mfit\u001b[49m\u001b[43m(\u001b[49m\u001b[43mX_train\u001b[49m\u001b[43m,\u001b[49m\u001b[43m \u001b[49m\u001b[43my_train\u001b[49m\u001b[43m)\u001b[49m\n",
      "File \u001b[1;32mD:\\SEMESTER 5\\Praktikum KB\\POSTTEST1\\venv_C2-21\\ihsan_135\\lib\\site-packages\\sklearn\\base.py:1152\u001b[0m, in \u001b[0;36m_fit_context.<locals>.decorator.<locals>.wrapper\u001b[1;34m(estimator, *args, **kwargs)\u001b[0m\n\u001b[0;32m   1145\u001b[0m     estimator\u001b[38;5;241m.\u001b[39m_validate_params()\n\u001b[0;32m   1147\u001b[0m \u001b[38;5;28;01mwith\u001b[39;00m config_context(\n\u001b[0;32m   1148\u001b[0m     skip_parameter_validation\u001b[38;5;241m=\u001b[39m(\n\u001b[0;32m   1149\u001b[0m         prefer_skip_nested_validation \u001b[38;5;129;01mor\u001b[39;00m global_skip_validation\n\u001b[0;32m   1150\u001b[0m     )\n\u001b[0;32m   1151\u001b[0m ):\n\u001b[1;32m-> 1152\u001b[0m     \u001b[38;5;28;01mreturn\u001b[39;00m fit_method(estimator, \u001b[38;5;241m*\u001b[39margs, \u001b[38;5;241m*\u001b[39m\u001b[38;5;241m*\u001b[39mkwargs)\n",
      "File \u001b[1;32mD:\\SEMESTER 5\\Praktikum KB\\POSTTEST1\\venv_C2-21\\ihsan_135\\lib\\site-packages\\sklearn\\svm\\_base.py:199\u001b[0m, in \u001b[0;36mBaseLibSVM.fit\u001b[1;34m(self, X, y, sample_weight)\u001b[0m\n\u001b[0;32m    189\u001b[0m \u001b[38;5;28;01melse\u001b[39;00m:\n\u001b[0;32m    190\u001b[0m     X, y \u001b[38;5;241m=\u001b[39m \u001b[38;5;28mself\u001b[39m\u001b[38;5;241m.\u001b[39m_validate_data(\n\u001b[0;32m    191\u001b[0m         X,\n\u001b[0;32m    192\u001b[0m         y,\n\u001b[1;32m   (...)\u001b[0m\n\u001b[0;32m    196\u001b[0m         accept_large_sparse\u001b[38;5;241m=\u001b[39m\u001b[38;5;28;01mFalse\u001b[39;00m,\n\u001b[0;32m    197\u001b[0m     )\n\u001b[1;32m--> 199\u001b[0m y \u001b[38;5;241m=\u001b[39m \u001b[38;5;28;43mself\u001b[39;49m\u001b[38;5;241;43m.\u001b[39;49m\u001b[43m_validate_targets\u001b[49m\u001b[43m(\u001b[49m\u001b[43my\u001b[49m\u001b[43m)\u001b[49m\n\u001b[0;32m    201\u001b[0m sample_weight \u001b[38;5;241m=\u001b[39m np\u001b[38;5;241m.\u001b[39masarray(\n\u001b[0;32m    202\u001b[0m     [] \u001b[38;5;28;01mif\u001b[39;00m sample_weight \u001b[38;5;129;01mis\u001b[39;00m \u001b[38;5;28;01mNone\u001b[39;00m \u001b[38;5;28;01melse\u001b[39;00m sample_weight, dtype\u001b[38;5;241m=\u001b[39mnp\u001b[38;5;241m.\u001b[39mfloat64\n\u001b[0;32m    203\u001b[0m )\n\u001b[0;32m    204\u001b[0m solver_type \u001b[38;5;241m=\u001b[39m LIBSVM_IMPL\u001b[38;5;241m.\u001b[39mindex(\u001b[38;5;28mself\u001b[39m\u001b[38;5;241m.\u001b[39m_impl)\n",
      "File \u001b[1;32mD:\\SEMESTER 5\\Praktikum KB\\POSTTEST1\\venv_C2-21\\ihsan_135\\lib\\site-packages\\sklearn\\svm\\_base.py:747\u001b[0m, in \u001b[0;36mBaseSVC._validate_targets\u001b[1;34m(self, y)\u001b[0m\n\u001b[0;32m    745\u001b[0m \u001b[38;5;28mself\u001b[39m\u001b[38;5;241m.\u001b[39mclass_weight_ \u001b[38;5;241m=\u001b[39m compute_class_weight(\u001b[38;5;28mself\u001b[39m\u001b[38;5;241m.\u001b[39mclass_weight, classes\u001b[38;5;241m=\u001b[39m\u001b[38;5;28mcls\u001b[39m, y\u001b[38;5;241m=\u001b[39my_)\n\u001b[0;32m    746\u001b[0m \u001b[38;5;28;01mif\u001b[39;00m \u001b[38;5;28mlen\u001b[39m(\u001b[38;5;28mcls\u001b[39m) \u001b[38;5;241m<\u001b[39m \u001b[38;5;241m2\u001b[39m:\n\u001b[1;32m--> 747\u001b[0m     \u001b[38;5;28;01mraise\u001b[39;00m \u001b[38;5;167;01mValueError\u001b[39;00m(\n\u001b[0;32m    748\u001b[0m         \u001b[38;5;124m\"\u001b[39m\u001b[38;5;124mThe number of classes has to be greater than one; got \u001b[39m\u001b[38;5;132;01m%d\u001b[39;00m\u001b[38;5;124m class\u001b[39m\u001b[38;5;124m\"\u001b[39m\n\u001b[0;32m    749\u001b[0m         \u001b[38;5;241m%\u001b[39m \u001b[38;5;28mlen\u001b[39m(\u001b[38;5;28mcls\u001b[39m)\n\u001b[0;32m    750\u001b[0m     )\n\u001b[0;32m    752\u001b[0m \u001b[38;5;28mself\u001b[39m\u001b[38;5;241m.\u001b[39mclasses_ \u001b[38;5;241m=\u001b[39m \u001b[38;5;28mcls\u001b[39m\n\u001b[0;32m    754\u001b[0m \u001b[38;5;28;01mreturn\u001b[39;00m np\u001b[38;5;241m.\u001b[39masarray(y, dtype\u001b[38;5;241m=\u001b[39mnp\u001b[38;5;241m.\u001b[39mfloat64, order\u001b[38;5;241m=\u001b[39m\u001b[38;5;124m\"\u001b[39m\u001b[38;5;124mC\u001b[39m\u001b[38;5;124m\"\u001b[39m)\n",
      "\u001b[1;31mValueError\u001b[0m: The number of classes has to be greater than one; got 1 class"
     ]
    }
   ],
   "source": [
    "svm.fit(X_train, y_train)"
   ]
  },
  {
   "cell_type": "markdown",
   "id": "c645438e-e161-4840-92e1-e5a493d7d55f",
   "metadata": {},
   "source": [
    "## prediksi data test dengan model"
   ]
  },
  {
   "cell_type": "code",
   "execution_count": 12,
   "id": "a5b99986-0832-49db-9af4-2727a703d017",
   "metadata": {},
   "outputs": [
    {
     "ename": "AttributeError",
     "evalue": "'SVC' object has no attribute 'support_vectors_'",
     "output_type": "error",
     "traceback": [
      "\u001b[1;31m---------------------------------------------------------------------------\u001b[0m",
      "\u001b[1;31mAttributeError\u001b[0m                            Traceback (most recent call last)",
      "Cell \u001b[1;32mIn[12], line 1\u001b[0m\n\u001b[1;32m----> 1\u001b[0m y_pred \u001b[38;5;241m=\u001b[39m \u001b[43msvm\u001b[49m\u001b[38;5;241;43m.\u001b[39;49m\u001b[43mpredict\u001b[49m\u001b[43m(\u001b[49m\u001b[43mX_test\u001b[49m\u001b[43m)\u001b[49m\n",
      "File \u001b[1;32mD:\\SEMESTER 5\\Praktikum KB\\POSTTEST1\\venv_C2-21\\ihsan_135\\lib\\site-packages\\sklearn\\svm\\_base.py:818\u001b[0m, in \u001b[0;36mBaseSVC.predict\u001b[1;34m(self, X)\u001b[0m\n\u001b[0;32m    816\u001b[0m     y \u001b[38;5;241m=\u001b[39m np\u001b[38;5;241m.\u001b[39margmax(\u001b[38;5;28mself\u001b[39m\u001b[38;5;241m.\u001b[39mdecision_function(X), axis\u001b[38;5;241m=\u001b[39m\u001b[38;5;241m1\u001b[39m)\n\u001b[0;32m    817\u001b[0m \u001b[38;5;28;01melse\u001b[39;00m:\n\u001b[1;32m--> 818\u001b[0m     y \u001b[38;5;241m=\u001b[39m \u001b[38;5;28;43msuper\u001b[39;49m\u001b[43m(\u001b[49m\u001b[43m)\u001b[49m\u001b[38;5;241;43m.\u001b[39;49m\u001b[43mpredict\u001b[49m\u001b[43m(\u001b[49m\u001b[43mX\u001b[49m\u001b[43m)\u001b[49m\n\u001b[0;32m    819\u001b[0m \u001b[38;5;28;01mreturn\u001b[39;00m \u001b[38;5;28mself\u001b[39m\u001b[38;5;241m.\u001b[39mclasses_\u001b[38;5;241m.\u001b[39mtake(np\u001b[38;5;241m.\u001b[39masarray(y, dtype\u001b[38;5;241m=\u001b[39mnp\u001b[38;5;241m.\u001b[39mintp))\n",
      "File \u001b[1;32mD:\\SEMESTER 5\\Praktikum KB\\POSTTEST1\\venv_C2-21\\ihsan_135\\lib\\site-packages\\sklearn\\svm\\_base.py:431\u001b[0m, in \u001b[0;36mBaseLibSVM.predict\u001b[1;34m(self, X)\u001b[0m\n\u001b[0;32m    415\u001b[0m \u001b[38;5;28;01mdef\u001b[39;00m \u001b[38;5;21mpredict\u001b[39m(\u001b[38;5;28mself\u001b[39m, X):\n\u001b[0;32m    416\u001b[0m \u001b[38;5;250m    \u001b[39m\u001b[38;5;124;03m\"\"\"Perform regression on samples in X.\u001b[39;00m\n\u001b[0;32m    417\u001b[0m \n\u001b[0;32m    418\u001b[0m \u001b[38;5;124;03m    For an one-class model, +1 (inlier) or -1 (outlier) is returned.\u001b[39;00m\n\u001b[1;32m   (...)\u001b[0m\n\u001b[0;32m    429\u001b[0m \u001b[38;5;124;03m        The predicted values.\u001b[39;00m\n\u001b[0;32m    430\u001b[0m \u001b[38;5;124;03m    \"\"\"\u001b[39;00m\n\u001b[1;32m--> 431\u001b[0m     X \u001b[38;5;241m=\u001b[39m \u001b[38;5;28;43mself\u001b[39;49m\u001b[38;5;241;43m.\u001b[39;49m\u001b[43m_validate_for_predict\u001b[49m\u001b[43m(\u001b[49m\u001b[43mX\u001b[49m\u001b[43m)\u001b[49m\n\u001b[0;32m    432\u001b[0m     predict \u001b[38;5;241m=\u001b[39m \u001b[38;5;28mself\u001b[39m\u001b[38;5;241m.\u001b[39m_sparse_predict \u001b[38;5;28;01mif\u001b[39;00m \u001b[38;5;28mself\u001b[39m\u001b[38;5;241m.\u001b[39m_sparse \u001b[38;5;28;01melse\u001b[39;00m \u001b[38;5;28mself\u001b[39m\u001b[38;5;241m.\u001b[39m_dense_predict\n\u001b[0;32m    433\u001b[0m     \u001b[38;5;28;01mreturn\u001b[39;00m predict(X)\n",
      "File \u001b[1;32mD:\\SEMESTER 5\\Praktikum KB\\POSTTEST1\\venv_C2-21\\ihsan_135\\lib\\site-packages\\sklearn\\svm\\_base.py:640\u001b[0m, in \u001b[0;36mBaseLibSVM._validate_for_predict\u001b[1;34m(self, X)\u001b[0m\n\u001b[0;32m    633\u001b[0m         \u001b[38;5;28;01mraise\u001b[39;00m \u001b[38;5;167;01mValueError\u001b[39;00m(\n\u001b[0;32m    634\u001b[0m             \u001b[38;5;124m\"\u001b[39m\u001b[38;5;124mX.shape[1] = \u001b[39m\u001b[38;5;132;01m%d\u001b[39;00m\u001b[38;5;124m should be equal to \u001b[39m\u001b[38;5;132;01m%d\u001b[39;00m\u001b[38;5;124m, \u001b[39m\u001b[38;5;124m\"\u001b[39m\n\u001b[0;32m    635\u001b[0m             \u001b[38;5;124m\"\u001b[39m\u001b[38;5;124mthe number of samples at training time\u001b[39m\u001b[38;5;124m\"\u001b[39m\n\u001b[0;32m    636\u001b[0m             \u001b[38;5;241m%\u001b[39m (X\u001b[38;5;241m.\u001b[39mshape[\u001b[38;5;241m1\u001b[39m], \u001b[38;5;28mself\u001b[39m\u001b[38;5;241m.\u001b[39mshape_fit_[\u001b[38;5;241m0\u001b[39m])\n\u001b[0;32m    637\u001b[0m         )\n\u001b[0;32m    638\u001b[0m \u001b[38;5;66;03m# Fixes https://nvd.nist.gov/vuln/detail/CVE-2020-28975\u001b[39;00m\n\u001b[0;32m    639\u001b[0m \u001b[38;5;66;03m# Check that _n_support is consistent with support_vectors\u001b[39;00m\n\u001b[1;32m--> 640\u001b[0m sv \u001b[38;5;241m=\u001b[39m \u001b[38;5;28;43mself\u001b[39;49m\u001b[38;5;241;43m.\u001b[39;49m\u001b[43msupport_vectors_\u001b[49m\n\u001b[0;32m    641\u001b[0m \u001b[38;5;28;01mif\u001b[39;00m \u001b[38;5;129;01mnot\u001b[39;00m \u001b[38;5;28mself\u001b[39m\u001b[38;5;241m.\u001b[39m_sparse \u001b[38;5;129;01mand\u001b[39;00m sv\u001b[38;5;241m.\u001b[39msize \u001b[38;5;241m>\u001b[39m \u001b[38;5;241m0\u001b[39m \u001b[38;5;129;01mand\u001b[39;00m \u001b[38;5;28mself\u001b[39m\u001b[38;5;241m.\u001b[39mn_support_\u001b[38;5;241m.\u001b[39msum() \u001b[38;5;241m!=\u001b[39m sv\u001b[38;5;241m.\u001b[39mshape[\u001b[38;5;241m0\u001b[39m]:\n\u001b[0;32m    642\u001b[0m     \u001b[38;5;28;01mraise\u001b[39;00m \u001b[38;5;167;01mValueError\u001b[39;00m(\n\u001b[0;32m    643\u001b[0m         \u001b[38;5;124mf\u001b[39m\u001b[38;5;124m\"\u001b[39m\u001b[38;5;124mThe internal representation of \u001b[39m\u001b[38;5;132;01m{\u001b[39;00m\u001b[38;5;28mself\u001b[39m\u001b[38;5;241m.\u001b[39m\u001b[38;5;18m__class__\u001b[39m\u001b[38;5;241m.\u001b[39m\u001b[38;5;18m__name__\u001b[39m\u001b[38;5;132;01m}\u001b[39;00m\u001b[38;5;124m was altered\u001b[39m\u001b[38;5;124m\"\u001b[39m\n\u001b[0;32m    644\u001b[0m     )\n",
      "\u001b[1;31mAttributeError\u001b[0m: 'SVC' object has no attribute 'support_vectors_'"
     ]
    }
   ],
   "source": [
    "y_pred = svm.predict(X_test)"
   ]
  },
  {
   "cell_type": "markdown",
   "id": "cd078a4e-83ae-4ba9-bd65-93a5cb36f704",
   "metadata": {},
   "source": [
    "## menyimpan nilai support vector dan indeksnya"
   ]
  },
  {
   "cell_type": "code",
   "execution_count": 13,
   "id": "ead686b7-6d81-465f-ad06-5ba45b7e736a",
   "metadata": {},
   "outputs": [
    {
     "ename": "AttributeError",
     "evalue": "'SVC' object has no attribute 'support_vectors_'",
     "output_type": "error",
     "traceback": [
      "\u001b[1;31m---------------------------------------------------------------------------\u001b[0m",
      "\u001b[1;31mAttributeError\u001b[0m                            Traceback (most recent call last)",
      "Cell \u001b[1;32mIn[13], line 1\u001b[0m\n\u001b[1;32m----> 1\u001b[0m support_vectors \u001b[38;5;241m=\u001b[39m \u001b[43msvm\u001b[49m\u001b[38;5;241;43m.\u001b[39;49m\u001b[43msupport_vectors_\u001b[49m\n\u001b[0;32m      2\u001b[0m support_vector_indices \u001b[38;5;241m=\u001b[39m np\u001b[38;5;241m.\u001b[39mwhere(np\u001b[38;5;241m.\u001b[39misin(X_train, support_vectors)\u001b[38;5;241m.\u001b[39mall(axis\u001b[38;5;241m=\u001b[39m\u001b[38;5;241m1\u001b[39m))\n",
      "\u001b[1;31mAttributeError\u001b[0m: 'SVC' object has no attribute 'support_vectors_'"
     ]
    }
   ],
   "source": [
    "support_vectors = svm.support_vectors_\n",
    "support_vector_indices = np.where(np.isin(X_train, support_vectors).all(axis=1))"
   ]
  },
  {
   "cell_type": "markdown",
   "id": "92aa33ea-d980-4b1a-8293-37362daea586",
   "metadata": {},
   "source": [
    "## Plotting menggunakan scatter dari Seaborn dan menampilkan titik titik support vector, lalu membuat garis decision boundary, meshgrid untuk evaluasi model, grafik decision boundary dan garis margin serta menambahkan label dan legenda"
   ]
  },
  {
   "cell_type": "code",
   "execution_count": 14,
   "id": "116a75d1-c3b3-4430-9def-60e9a1923c32",
   "metadata": {},
   "outputs": [
    {
     "ename": "NameError",
     "evalue": "name 'support_vectors' is not defined",
     "output_type": "error",
     "traceback": [
      "\u001b[1;31m---------------------------------------------------------------------------\u001b[0m",
      "\u001b[1;31mNameError\u001b[0m                                 Traceback (most recent call last)",
      "Cell \u001b[1;32mIn[14], line 2\u001b[0m\n\u001b[0;32m      1\u001b[0m sns\u001b[38;5;241m.\u001b[39mscatterplot(x\u001b[38;5;241m=\u001b[39m\u001b[38;5;124m'\u001b[39m\u001b[38;5;124mprice\u001b[39m\u001b[38;5;124m'\u001b[39m, y\u001b[38;5;241m=\u001b[39m\u001b[38;5;124m'\u001b[39m\u001b[38;5;124myearOfRegistration\u001b[39m\u001b[38;5;124m'\u001b[39m, hue\u001b[38;5;241m=\u001b[39m\u001b[38;5;124m'\u001b[39m\u001b[38;5;124mgearbox\u001b[39m\u001b[38;5;124m'\u001b[39m, data\u001b[38;5;241m=\u001b[39mdf)\n\u001b[1;32m----> 2\u001b[0m plt\u001b[38;5;241m.\u001b[39mscatter(\u001b[43msupport_vectors\u001b[49m[:, \u001b[38;5;241m0\u001b[39m], support_vectors[:, \u001b[38;5;241m1\u001b[39m], s\u001b[38;5;241m=\u001b[39m\u001b[38;5;241m40\u001b[39m, color\u001b[38;5;241m=\u001b[39m\u001b[38;5;124m'\u001b[39m\u001b[38;5;124mcyan\u001b[39m\u001b[38;5;124m'\u001b[39m, marker\u001b[38;5;241m=\u001b[39m\u001b[38;5;124m'\u001b[39m\u001b[38;5;124m+\u001b[39m\u001b[38;5;124m'\u001b[39m, label\u001b[38;5;241m=\u001b[39m\u001b[38;5;124m'\u001b[39m\u001b[38;5;124mSupport Vectors\u001b[39m\u001b[38;5;124m'\u001b[39m)\n\u001b[0;32m      3\u001b[0m ax \u001b[38;5;241m=\u001b[39m plt\u001b[38;5;241m.\u001b[39mgca()\n\u001b[0;32m      4\u001b[0m xlim \u001b[38;5;241m=\u001b[39m ax\u001b[38;5;241m.\u001b[39mget_xlim()\n",
      "\u001b[1;31mNameError\u001b[0m: name 'support_vectors' is not defined"
     ]
    },
    {
     "data": {
      "image/png": "[encoded data removed]",
      "text/plain": [
       "<Figure size 640x480 with 1 Axes>"
      ]
     },
     "metadata": {},
     "output_type": "display_data"
    }
   ],
   "source": [
    "sns.scatterplot(x='price', y='yearOfRegistration', hue='gearbox', data=df)\n",
    "plt.scatter(support_vectors[:, 0], support_vectors[:, 1], s=40, color='cyan', marker='+', label='Support Vectors')\n",
    "ax = plt.gca()\n",
    "xlim = ax.get_xlim()\n",
    "ylim = ax.get_ylim()\n",
    "xx, yy = np.meshgrid(np.linspace(xlim[0], xlim[1]), np.linspace(ylim[0], ylim[1]))\n",
    "Z = svm.decision_function(np.c_[xx.ravel(), yy.ravel()])\n",
    "Z = Z.reshape(xx.shape)\n",
    "ax.contour(xx, yy, Z, colors='k', levels=[-1, 0, 1], alpha=0.5,\n",
    "linestyles=['--', '-', '--'])\n",
    "plt.xlabel('price')\n",
    "plt.ylabel('yearOfRegistration')\n",
    "plt.legend(loc='lower right')\n",
    "plt.title('SVM dengan Support Vectors')\n",
    "plt.show()"
   ]
  },
  {
   "cell_type": "markdown",
   "id": "18814158-f82f-4cf1-bbbd-aa24bd1abdb6",
   "metadata": {},
   "source": [
    "## Melihat 4 nilai metriks dengan menggunakan library dari Scikit-Learn yaitu Classification Report."
   ]
  },
  {
   "cell_type": "code",
   "execution_count": 15,
   "id": "5da1a56f-dba1-49c0-9ec4-227867daa8a4",
   "metadata": {},
   "outputs": [
    {
     "ename": "NameError",
     "evalue": "name 'y_pred' is not defined",
     "output_type": "error",
     "traceback": [
      "\u001b[1;31m---------------------------------------------------------------------------\u001b[0m",
      "\u001b[1;31mNameError\u001b[0m                                 Traceback (most recent call last)",
      "Cell \u001b[1;32mIn[15], line 1\u001b[0m\n\u001b[1;32m----> 1\u001b[0m report \u001b[38;5;241m=\u001b[39m classification_report(y_test, \u001b[43my_pred\u001b[49m)\n\u001b[0;32m      2\u001b[0m \u001b[38;5;28mprint\u001b[39m(report)\n",
      "\u001b[1;31mNameError\u001b[0m: name 'y_pred' is not defined"
     ]
    }
   ],
   "source": [
    "report = classification_report(y_test, y_pred)\n",
    "print(report)"
   ]
  },
  {
   "cell_type": "markdown",
   "id": "2097f3d1-5946-4492-a9d5-5cbb6bfaa5e1",
   "metadata": {},
   "source": [
    "## Linear Regression"
   ]
  },
  {
   "cell_type": "markdown",
   "id": "d7230484-ab09-4ce9-b755-91971816172a",
   "metadata": {},
   "source": [
    "## memisahkan fitur dan target dari dataset"
   ]
  },
  {
   "cell_type": "code",
   "execution_count": 16,
   "id": "ec886e49-3b50-4fc4-9308-ebca1a91e09b",
   "metadata": {},
   "outputs": [],
   "source": [
    "X, y = df[['price']], df['yearOfRegistration']"
   ]
  },
  {
   "cell_type": "markdown",
   "id": "1d34dce1-de80-435d-9ec9-0270e4c8e0fa",
   "metadata": {},
   "source": [
    "## mentraining data fitur dan target"
   ]
  },
  {
   "cell_type": "code",
   "execution_count": 17,
   "id": "a14b4184-c53c-4d67-bfcc-231789fb7761",
   "metadata": {},
   "outputs": [],
   "source": [
    "X_train, X_test, y_train, y_test = train_test_split(X, y, test_size=0.2, random_state=31)"
   ]
  },
  {
   "cell_type": "markdown",
   "id": "869cbd82-71db-4f78-8c20-df2426418747",
   "metadata": {},
   "source": [
    "## Membuat model regresi linear, melatih model dengan data training dan menggunakan model untuk membuat prediksi pada data test"
   ]
  },
  {
   "cell_type": "code",
   "execution_count": 18,
   "id": "212cfc2d-4f7f-4d36-a91c-cd3d7b8add00",
   "metadata": {},
   "outputs": [],
   "source": [
    "reg = LinearRegression()\n",
    "reg.fit(X_train, y_train)\n",
    "\n",
    "y_pred = reg.predict(X_test)"
   ]
  },
  {
   "cell_type": "markdown",
   "id": "168bf3ea-43f6-4ba6-a698-7317dd2178ed",
   "metadata": {},
   "source": [
    "## Visualisasi hasil prediksi regresi linear pada data test yang membandingkan prediksi (garis biru) dengan data asli (titik hitam) untuk melihat sejauh mana model cocok dengan data aktual"
   ]
  },
  {
   "cell_type": "code",
   "execution_count": 19,
   "id": "23c17cd7-7875-4522-aa2e-cf8ce2bacf31",
   "metadata": {},
   "outputs": [
    {
     "data": {
      "image/png": "[encoded data removed]",
      "text/plain": [
       "<Figure size 1000x800 with 1 Axes>"
      ]
     },
     "metadata": {},
     "output_type": "display_data"
    }
   ],
   "source": [
    "plt.figure(figsize=(10,8))\n",
    "plt.plot(X_test, y_pred, c='blue', linewidth=3)\n",
    "plt.scatter(X_test, y_test, c='Black')\n",
    "plt.xlabel(\"price\")\n",
    "plt.ylabel(\"yearOfRegistration\")\n",
    "plt.show()"
   ]
  },
  {
   "cell_type": "markdown",
   "id": "8a92d898-6850-4a22-8fd2-88d9d11da3b2",
   "metadata": {},
   "source": [
    "## Membuat objek classifier SVM"
   ]
  },
  {
   "cell_type": "code",
   "execution_count": 20,
   "id": "22e61557-848e-47ee-8f91-ccceb7140604",
   "metadata": {},
   "outputs": [],
   "source": [
    "svm = SVC(kernel=\"linear\")"
   ]
  },
  {
   "cell_type": "markdown",
   "id": "cc77e546-9a22-4a1e-b1a7-566f05c558f5",
   "metadata": {},
   "source": [
    "## Melatih classifier"
   ]
  },
  {
   "cell_type": "code",
   "execution_count": null,
   "id": "40ae8258-5ab3-4099-8d12-285212db0beb",
   "metadata": {},
   "outputs": [],
   "source": [
    "svm.fit(X_train, y_train)"
   ]
  },
  {
   "cell_type": "markdown",
   "id": "9917838c-f900-4f32-bb44-ec515d1ebd21",
   "metadata": {},
   "source": [
    "## melakukan prediksi data test dengan model dan menampilkan hasil"
   ]
  },
  {
   "cell_type": "code",
   "execution_count": 21,
   "id": "f4be5ae4-4ccb-4620-aac3-f1b689598356",
   "metadata": {},
   "outputs": [
    {
     "ename": "NotFittedError",
     "evalue": "This SVC instance is not fitted yet. Call 'fit' with appropriate arguments before using this estimator.",
     "output_type": "error",
     "traceback": [
      "\u001b[1;31m---------------------------------------------------------------------------\u001b[0m",
      "\u001b[1;31mNotFittedError\u001b[0m                            Traceback (most recent call last)",
      "Cell \u001b[1;32mIn[21], line 1\u001b[0m\n\u001b[1;32m----> 1\u001b[0m y_pred \u001b[38;5;241m=\u001b[39m \u001b[43msvm\u001b[49m\u001b[38;5;241;43m.\u001b[39;49m\u001b[43mpredict\u001b[49m\u001b[43m(\u001b[49m\u001b[43mX_test\u001b[49m\u001b[43m)\u001b[49m\n\u001b[0;32m      2\u001b[0m \u001b[38;5;28mprint\u001b[39m(\u001b[38;5;124m\"\u001b[39m\u001b[38;5;124mMAE :\u001b[39m\u001b[38;5;124m\"\u001b[39m, mean_absolute_error(y_test, y_pred))\n\u001b[0;32m      3\u001b[0m \u001b[38;5;28mprint\u001b[39m(\u001b[38;5;124m\"\u001b[39m\u001b[38;5;124mMSE :\u001b[39m\u001b[38;5;124m\"\u001b[39m, mean_squared_error(y_test, y_pred))\n",
      "File \u001b[1;32mD:\\SEMESTER 5\\Praktikum KB\\POSTTEST1\\venv_C2-21\\ihsan_135\\lib\\site-packages\\sklearn\\svm\\_base.py:805\u001b[0m, in \u001b[0;36mBaseSVC.predict\u001b[1;34m(self, X)\u001b[0m\n\u001b[0;32m    788\u001b[0m \u001b[38;5;28;01mdef\u001b[39;00m \u001b[38;5;21mpredict\u001b[39m(\u001b[38;5;28mself\u001b[39m, X):\n\u001b[0;32m    789\u001b[0m \u001b[38;5;250m    \u001b[39m\u001b[38;5;124;03m\"\"\"Perform classification on samples in X.\u001b[39;00m\n\u001b[0;32m    790\u001b[0m \n\u001b[0;32m    791\u001b[0m \u001b[38;5;124;03m    For an one-class model, +1 or -1 is returned.\u001b[39;00m\n\u001b[1;32m   (...)\u001b[0m\n\u001b[0;32m    803\u001b[0m \u001b[38;5;124;03m        Class labels for samples in X.\u001b[39;00m\n\u001b[0;32m    804\u001b[0m \u001b[38;5;124;03m    \"\"\"\u001b[39;00m\n\u001b[1;32m--> 805\u001b[0m     \u001b[43mcheck_is_fitted\u001b[49m\u001b[43m(\u001b[49m\u001b[38;5;28;43mself\u001b[39;49m\u001b[43m)\u001b[49m\n\u001b[0;32m    806\u001b[0m     \u001b[38;5;28;01mif\u001b[39;00m \u001b[38;5;28mself\u001b[39m\u001b[38;5;241m.\u001b[39mbreak_ties \u001b[38;5;129;01mand\u001b[39;00m \u001b[38;5;28mself\u001b[39m\u001b[38;5;241m.\u001b[39mdecision_function_shape \u001b[38;5;241m==\u001b[39m \u001b[38;5;124m\"\u001b[39m\u001b[38;5;124movo\u001b[39m\u001b[38;5;124m\"\u001b[39m:\n\u001b[0;32m    807\u001b[0m         \u001b[38;5;28;01mraise\u001b[39;00m \u001b[38;5;167;01mValueError\u001b[39;00m(\n\u001b[0;32m    808\u001b[0m             \u001b[38;5;124m\"\u001b[39m\u001b[38;5;124mbreak_ties must be False when decision_function_shape is \u001b[39m\u001b[38;5;124m'\u001b[39m\u001b[38;5;124movo\u001b[39m\u001b[38;5;124m'\u001b[39m\u001b[38;5;124m\"\u001b[39m\n\u001b[0;32m    809\u001b[0m         )\n",
      "File \u001b[1;32mD:\\SEMESTER 5\\Praktikum KB\\POSTTEST1\\venv_C2-21\\ihsan_135\\lib\\site-packages\\sklearn\\utils\\validation.py:1461\u001b[0m, in \u001b[0;36mcheck_is_fitted\u001b[1;34m(estimator, attributes, msg, all_or_any)\u001b[0m\n\u001b[0;32m   1458\u001b[0m     \u001b[38;5;28;01mraise\u001b[39;00m \u001b[38;5;167;01mTypeError\u001b[39;00m(\u001b[38;5;124m\"\u001b[39m\u001b[38;5;132;01m%s\u001b[39;00m\u001b[38;5;124m is not an estimator instance.\u001b[39m\u001b[38;5;124m\"\u001b[39m \u001b[38;5;241m%\u001b[39m (estimator))\n\u001b[0;32m   1460\u001b[0m \u001b[38;5;28;01mif\u001b[39;00m \u001b[38;5;129;01mnot\u001b[39;00m _is_fitted(estimator, attributes, all_or_any):\n\u001b[1;32m-> 1461\u001b[0m     \u001b[38;5;28;01mraise\u001b[39;00m NotFittedError(msg \u001b[38;5;241m%\u001b[39m {\u001b[38;5;124m\"\u001b[39m\u001b[38;5;124mname\u001b[39m\u001b[38;5;124m\"\u001b[39m: \u001b[38;5;28mtype\u001b[39m(estimator)\u001b[38;5;241m.\u001b[39m\u001b[38;5;18m__name__\u001b[39m})\n",
      "\u001b[1;31mNotFittedError\u001b[0m: This SVC instance is not fitted yet. Call 'fit' with appropriate arguments before using this estimator."
     ]
    }
   ],
   "source": [
    "y_pred = svm.predict(X_test)\n",
    "print(\"MAE :\", mean_absolute_error(y_test, y_pred))\n",
    "print(\"MSE :\", mean_squared_error(y_test, y_pred))\n",
    "print(\"RMSE :\", np.sqrt(mean_squared_error(y_test, y_pred)))\n",
    "print(\"R-Squared :\", r2_score(y_test, y_pred))"
   ]
  },
  {
   "cell_type": "markdown",
   "id": "d92f5387-20cc-4001-9e86-94d7dc51f5ac",
   "metadata": {},
   "source": [
    "# UNSUPERVISED LEARNING"
   ]
  },
  {
   "cell_type": "markdown",
   "id": "cd66acc4-d6e5-4941-8346-9d29b4a0117b",
   "metadata": {},
   "source": [
    "## K-Means"
   ]
  },
  {
   "cell_type": "markdown",
   "id": "49e2c7a1-c082-4d65-9a37-b71acf8ee4b4",
   "metadata": {},
   "source": [
    "## Menggunakan fitur X dan menentukan banyaknya kelompok"
   ]
  },
  {
   "cell_type": "code",
   "execution_count": 22,
   "id": "7cc6b47b-d220-46c2-abe0-c17e3baad1d0",
   "metadata": {},
   "outputs": [],
   "source": [
    "X = df[[\"price\", \"yearOfRegistration\"]]\n",
    "K = 2"
   ]
  },
  {
   "cell_type": "markdown",
   "id": "bebdbf46-63c8-4713-9707-a4604e621a99",
   "metadata": {},
   "source": [
    "## Inisialisasi K-Means dan melatih model K-Means berdasarkan data X"
   ]
  },
  {
   "cell_type": "code",
   "execution_count": 23,
   "id": "3b5328e6-116a-4647-8645-506b8a45a8aa",
   "metadata": {},
   "outputs": [
    {
     "data": {
      "text/html": [
       "<style>#sk-container-id-1 {color: black;}#sk-container-id-1 pre{padding: 0;}#sk-container-id-1 div.sk-toggleable {background-color: white;}#sk-container-id-1 label.sk-toggleable__label {cursor: pointer;display: block;width: 100%;margin-bottom: 0;padding: 0.3em;box-sizing: border-box;text-align: center;}#sk-container-id-1 label.sk-toggleable__label-arrow:before {content: \"▸\";float: left;margin-right: 0.25em;color: #696969;}#sk-container-id-1 label.sk-toggleable__label-arrow:hover:before {color: black;}#sk-container-id-1 div.sk-estimator:hover label.sk-toggleable__label-arrow:before {color: black;}#sk-container-id-1 div.sk-toggleable__content {max-height: 0;max-width: 0;overflow: hidden;text-align: left;background-color: #f0f8ff;}#sk-container-id-1 div.sk-toggleable__content pre {margin: 0.2em;color: black;border-radius: 0.25em;background-color: #f0f8ff;}#sk-container-id-1 input.sk-toggleable__control:checked~div.sk-toggleable__content {max-height: 200px;max-width: 100%;overflow: auto;}#sk-container-id-1 input.sk-toggleable__control:checked~label.sk-toggleable__label-arrow:before {content: \"▾\";}#sk-container-id-1 div.sk-estimator input.sk-toggleable__control:checked~label.sk-toggleable__label {background-color: #d4ebff;}#sk-container-id-1 div.sk-label input.sk-toggleable__control:checked~label.sk-toggleable__label {background-color: #d4ebff;}#sk-container-id-1 input.sk-hidden--visually {border: 0;clip: rect(1px 1px 1px 1px);clip: rect(1px, 1px, 1px, 1px);height: 1px;margin: -1px;overflow: hidden;padding: 0;position: absolute;width: 1px;}#sk-container-id-1 div.sk-estimator {font-family: monospace;background-color: #f0f8ff;border: 1px dotted black;border-radius: 0.25em;box-sizing: border-box;margin-bottom: 0.5em;}#sk-container-id-1 div.sk-estimator:hover {background-color: #d4ebff;}#sk-container-id-1 div.sk-parallel-item::after {content: \"\";width: 100%;border-bottom: 1px solid gray;flex-grow: 1;}#sk-container-id-1 div.sk-label:hover label.sk-toggleable__label {background-color: #d4ebff;}#sk-container-id-1 div.sk-serial::before {content: \"\";position: absolute;border-left: 1px solid gray;box-sizing: border-box;top: 0;bottom: 0;left: 50%;z-index: 0;}#sk-container-id-1 div.sk-serial {display: flex;flex-direction: column;align-items: center;background-color: white;padding-right: 0.2em;padding-left: 0.2em;position: relative;}#sk-container-id-1 div.sk-item {position: relative;z-index: 1;}#sk-container-id-1 div.sk-parallel {display: flex;align-items: stretch;justify-content: center;background-color: white;position: relative;}#sk-container-id-1 div.sk-item::before, #sk-container-id-1 div.sk-parallel-item::before {content: \"\";position: absolute;border-left: 1px solid gray;box-sizing: border-box;top: 0;bottom: 0;left: 50%;z-index: -1;}#sk-container-id-1 div.sk-parallel-item {display: flex;flex-direction: column;z-index: 1;position: relative;background-color: white;}#sk-container-id-1 div.sk-parallel-item:first-child::after {align-self: flex-end;width: 50%;}#sk-container-id-1 div.sk-parallel-item:last-child::after {align-self: flex-start;width: 50%;}#sk-container-id-1 div.sk-parallel-item:only-child::after {width: 0;}#sk-container-id-1 div.sk-dashed-wrapped {border: 1px dashed gray;margin: 0 0.4em 0.5em 0.4em;box-sizing: border-box;padding-bottom: 0.4em;background-color: white;}#sk-container-id-1 div.sk-label label {font-family: monospace;font-weight: bold;display: inline-block;line-height: 1.2em;}#sk-container-id-1 div.sk-label-container {text-align: center;}#sk-container-id-1 div.sk-container {/* jupyter's `normalize.less` sets `[hidden] { display: none; }` but bootstrap.min.css set `[hidden] { display: none !important; }` so we also need the `!important` here to be able to override the default hidden behavior on the sphinx rendered scikit-learn.org. See: https://github.com/scikit-learn/scikit-learn/issues/21755 */display: inline-block !important;position: relative;}#sk-container-id-1 div.sk-text-repr-fallback {display: none;}</style><div id=\"sk-container-id-1\" class=\"sk-top-container\"><div class=\"sk-text-repr-fallback\"><pre>KMeans(n_clusters=2, n_init=10)</pre><b>In a Jupyter environment, please rerun this cell to show the HTML representation or trust the notebook. <br />On GitHub, the HTML representation is unable to render, please try loading this page with nbviewer.org.</b></div><div class=\"sk-container\" hidden><div class=\"sk-item\"><div class=\"sk-estimator sk-toggleable\"><input class=\"sk-toggleable__control sk-hidden--visually\" id=\"sk-estimator-id-1\" type=\"checkbox\" checked><label for=\"sk-estimator-id-1\" class=\"sk-toggleable__label sk-toggleable__label-arrow\">KMeans</label><div class=\"sk-toggleable__content\"><pre>KMeans(n_clusters=2, n_init=10)</pre></div></div></div></div></div>"
      ],
      "text/plain": [
       "KMeans(n_clusters=2, n_init=10)"
      ]
     },
     "execution_count": 23,
     "metadata": {},
     "output_type": "execute_result"
    }
   ],
   "source": [
    "kmeans = KMeans(n_clusters=K, n_init=10)\n",
    "kmeans.fit(X)"
   ]
  },
  {
   "cell_type": "markdown",
   "id": "b972c943-cb2b-4331-a309-0929f005705d",
   "metadata": {},
   "source": [
    "## Membuat label kelompok dari model dan tambah kolom prediksi serta titik pusat kelompok dari model"
   ]
  },
  {
   "cell_type": "code",
   "execution_count": 24,
   "id": "ee7953ed-a8e0-46e4-8138-d57af6ee7543",
   "metadata": {},
   "outputs": [],
   "source": [
    "cluster_labels = kmeans.labels_\n",
    "df[\"cluster\"] = cluster_labels\n",
    "centroids = kmeans.cluster_centers_"
   ]
  },
  {
   "cell_type": "code",
   "execution_count": 25,
   "id": "530783b6-bbbb-4ebd-98ff-4b473c11177d",
   "metadata": {},
   "outputs": [
    {
     "data": {
      "image/png": "[encoded data removed]",
      "text/plain": [
       "<Figure size 640x480 with 1 Axes>"
      ]
     },
     "metadata": {},
     "output_type": "display_data"
    }
   ],
   "source": [
    "plt.scatter(centroids[:, 0], centroids[:, 1], alpha=0.5, c='black', s=100, label='Centroids')\n",
    "sns.scatterplot(data=df, x=\"price\", y=\"yearOfRegistration\", hue=\"cluster\", palette=[\"red\", \"green\"])\n",
    "plt.title(f\"K-Means Clustering (K={K}) dengan Centroids\")\n",
    "plt.xlabel(\"price\")\n",
    "plt.ylabel(\"yearOfRegistration\")\n",
    "plt.legend()\n",
    "plt.show()"
   ]
  },
  {
   "cell_type": "markdown",
   "id": "26497096-11b1-455b-af5e-65a4df2d09df",
   "metadata": {},
   "source": [
    "## Membuat crosstab untuk membandingkan cluster labels dengan true labels"
   ]
  },
  {
   "cell_type": "code",
   "execution_count": 26,
   "id": "0c563a99-0ce6-4b1b-9dcd-1ffcb3878142",
   "metadata": {},
   "outputs": [
    {
     "name": "stdout",
     "output_type": "stream",
     "text": [
      "Cross-Tabulation:\n",
      "gearbox  automatik  manuell\n",
      "cluster                    \n",
      "0              354     1960\n",
      "1              180      209 \n",
      "\n"
     ]
    }
   ],
   "source": [
    "cross_tab = pd.crosstab(df[\"cluster\"], df[\"gearbox\"])\n",
    "print(\"Cross-Tabulation:\")\n",
    "print(cross_tab, \"\\n\")"
   ]
  },
  {
   "cell_type": "markdown",
   "id": "653ac447-ec73-4600-85d6-c4a0fc4d4258",
   "metadata": {},
   "source": [
    "## Menghitung dan mencetak nilai \"Adjusted Rand Index (ARI)\" yang mengukur sejauh mana clustering dengan algoritma K-Means"
   ]
  },
  {
   "cell_type": "code",
   "execution_count": 27,
   "id": "e86f6247-9a27-4cbf-a081-d816bd19e3ec",
   "metadata": {},
   "outputs": [
    {
     "name": "stdout",
     "output_type": "stream",
     "text": [
      "Adjusted Rand Index (ARI): 0.19\n"
     ]
    }
   ],
   "source": [
    "ari = adjusted_rand_score(df[\"gearbox\"], cluster_labels)\n",
    "print(f\"Adjusted Rand Index (ARI): {ari:.2f}\")"
   ]
  },
  {
   "cell_type": "markdown",
   "id": "9af85c01-a797-4bca-85eb-20a401cda262",
   "metadata": {},
   "source": [
    "## Menghitung dan mencetak nilai \"Normalized Mutual Information (NMI)\" untuk mengevaluasi sejauh mana hasil clustering dengan algoritma K-Means"
   ]
  },
  {
   "cell_type": "code",
   "execution_count": 28,
   "id": "1b77dbb4-b86b-4055-8bd6-7b19e740fa2d",
   "metadata": {},
   "outputs": [
    {
     "name": "stdout",
     "output_type": "stream",
     "text": [
      "Normalized Mutual Information (NMI): 0.07\n"
     ]
    }
   ],
   "source": [
    "true_labels_num = df[\"gearbox\"].astype(\"category\").cat.codes\n",
    "nmi = normalized_mutual_info_score(true_labels_num, cluster_labels)\n",
    "print(f\"Normalized Mutual Information (NMI): {nmi:.2f}\")"
   ]
  },
  {
   "cell_type": "markdown",
   "id": "edcd53ab-1ae1-4eb0-a2f5-34a3e5fc076f",
   "metadata": {},
   "source": [
    "## Homogeneity, Completeness dan V-Measure membantu mengukur sejauh mana hasil klustering sesuai dengan label asli data dan seberapa baik klustering tersebut dalam mengelompokkan data"
   ]
  },
  {
   "cell_type": "code",
   "execution_count": 29,
   "id": "735d835b-feb7-4aab-bcb7-785235a3e486",
   "metadata": {},
   "outputs": [
    {
     "name": "stdout",
     "output_type": "stream",
     "text": [
      "Homogeneity Score: 0.06\n",
      "Completeness Score: 0.08\n",
      "V-Measure Score: 0.07\n"
     ]
    }
   ],
   "source": [
    "homogeneity = homogeneity_score(df[\"gearbox\"], cluster_labels)\n",
    "completeness = completeness_score(df[\"gearbox\"], cluster_labels)\n",
    "v_measure = v_measure_score(df[\"gearbox\"], cluster_labels)\n",
    "print(f\"Homogeneity Score: {homogeneity:.2f}\")\n",
    "print(f\"Completeness Score: {completeness:.2f}\")\n",
    "print(f\"V-Measure Score: {v_measure:.2f}\")"
   ]
  },
  {
   "cell_type": "code",
   "execution_count": null,
   "id": "b4265772-f431-433a-be1b-a00953686326",
   "metadata": {},
   "outputs": [],
   "source": []
  }
 ],
 "metadata": {
  "kernelspec": {
   "display_name": "ihsan_135",
   "language": "python",
   "name": "ihsan_135"
  },
  "language_info": {
   "codemirror_mode": {
    "name": "ipython",
    "version": 3
   },
   "file_extension": ".py",
   "mimetype": "text/x-python",
   "name": "python",
   "nbconvert_exporter": "python",
   "pygments_lexer": "ipython3",
   "version": "3.10.7"
  }
 },
 "nbformat": 4,
 "nbformat_minor": 5
}
